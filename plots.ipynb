{
 "cells": [
  {
   "cell_type": "code",
   "execution_count": 54,
   "metadata": {
    "collapsed": true,
    "ExecuteTime": {
     "start_time": "2023-06-20T14:50:16.600835Z",
     "end_time": "2023-06-20T14:50:16.600937Z"
    }
   },
   "outputs": [],
   "source": [
    "import numpy as np\n",
    "import matplotlib.pyplot as plt\n",
    "from astropy.io import fits,ascii\n",
    "import pandas as pd\n",
    "import cmasher as cmr\n",
    "from kinemetry import kinemetry\n",
    "from kinemetry_plots import clean_images"
   ]
  },
  {
   "cell_type": "code",
   "execution_count": 185,
   "outputs": [],
   "source": [
    "gas_file = \"MAGPI_Emission_Lines/MAGPI1201/MAGPI1201_v2.2.1_GIST_EmissionLine_Maps/MAGPI1201302222_GIST_EmissionLines.fits\"\n",
    "try:\n",
    "    gasfile = fits.open(gas_file)\n",
    "    g_flux, g_flux_err, g_velo, g_velo_err, g_sigma, g_sigma_err = gasfile[49].data, gasfile[50].data,gasfile[9].data, gasfile[10].data, gasfile[11].data, gasfile[12].data\n",
    "    gasfile.close()\n",
    "except IOError:\n",
    "    pass\n",
    "star_file = \"MAGPI_Absorption_Lines/MAGPI1201/galaxies/1201302222_kinematics_ppxf-maps.fits\"\n",
    "starfile = fits.open(star_file)\n",
    "s_flux, s_velo, s_velo_err, s_sigma = starfile[7].data, starfile[1].data, starfile[3].data, starfile[4].data\n",
    "starfile.close()\n",
    "file = pd.read_csv(\"MAGPI_csv/MAGPI_kinemetry_sample_source_catalogue.csv\")\n",
    "file = file[file[\"MAGPIID\"].isin([1201302222])]\n",
    "z = file[\"z\"].to_numpy()[0]\n",
    "pa = file[\"ang_it\"].to_numpy()[0]\n",
    "q = file[\"axrat_it\"].to_numpy()[0]\n",
    "re = file[\"R50_it\"].to_numpy()[0] / 0.2\n",
    "quality = file[\"QOP\"].to_numpy()[0]\n",
    "galaxy = file[\"MAGPIID\"].to_numpy()[0]\n",
    "start = (0.65/2)/0.2\n",
    "step = (0.65/2)/0.2\n",
    "end = 2*re\n",
    "rad = np.arange(start,end,step)\n",
    "y0,x0 = g_flux.shape\n",
    "y0,x0 = y0/2,x0/2"
   ],
   "metadata": {
    "collapsed": false,
    "ExecuteTime": {
     "start_time": "2023-06-20T15:48:24.994136Z",
     "end_time": "2023-06-20T15:48:24.994227Z"
    }
   }
  },
  {
   "cell_type": "code",
   "execution_count": 186,
   "outputs": [],
   "source": [
    "g_velo = clean_images(g_velo, pa, re, re * q, img_err=g_flux / g_flux_err)\n",
    "g_velo_err = clean_images(g_velo_err, pa, re, re* q, img_err=g_flux / g_flux_err)\n",
    "g_flux = clean_images(g_flux, pa, re, re * q, img_err=g_flux / g_flux_err)\n",
    "g_flux = g_flux / g_flux_err\n",
    "g_velo[np.isnan(g_velo)] = 0\n",
    "g_sigma[np.isnan(g_sigma)] = 0\n",
    "g_velo_err[np.isnan(g_velo_err)] = 0\n",
    "g_flux[np.isnan(g_flux)] = 0\n",
    "s_velo[np.isnan(s_velo)] = 0\n",
    "s_sigma[np.isnan(s_sigma)] = 0\n",
    "s_velo_err[np.isnan(s_velo_err)] = 0\n",
    "s_flux[np.isnan(s_flux)] = 0"
   ],
   "metadata": {
    "collapsed": false,
    "ExecuteTime": {
     "start_time": "2023-06-20T15:48:25.256892Z",
     "end_time": "2023-06-20T15:48:25.256978Z"
    }
   }
  },
  {
   "cell_type": "code",
   "execution_count": 187,
   "outputs": [],
   "source": [
    "kg_velo = kinemetry(img=g_velo, x0=x0, y0=y0, ntrm=11, plot=False, verbose=False, radius=rad,bmodel=True, rangePA=[0, 360], rangeQ=[q - 0.1, q + 0.1], allterms=True)\n",
    "ks_velo = kinemetry(img=s_velo, x0=x0, y0=y0, ntrm=11, plot=False, verbose=False, radius=rad,bmodel=True, rangePA=[0, 360], rangeQ=[q - 0.1, q + 0.1], allterms=True)\n",
    "kg_sigma = kinemetry(img=g_sigma, x0=x0, y0=y0, ntrm=10, plot=False, verbose=False, radius=rad,bmodel=True, rangePA=[0, 360], rangeQ=[q - 0.1, q + 0.1], even=True)\n",
    "ks_sigma = kinemetry(img=s_sigma, x0=x0, y0=y0, ntrm=10, plot=False, verbose=False, radius=rad,bmodel=True, rangePA=[0, 360], rangeQ=[q - 0.1, q + 0.1], even=True)"
   ],
   "metadata": {
    "collapsed": false,
    "ExecuteTime": {
     "start_time": "2023-06-20T15:48:30.462527Z",
     "end_time": "2023-06-20T15:48:30.462621Z"
    }
   }
  },
  {
   "cell_type": "code",
   "execution_count": 188,
   "outputs": [
    {
     "name": "stdout",
     "output_type": "stream",
     "text": [
      "[1.23703959 0.59439813 0.82013664        nan        nan]\n",
      "[0.04553575 0.06116627 0.0681022  0.07701427 0.08602684]\n"
     ]
    },
    {
     "name": "stderr",
     "output_type": "stream",
     "text": [
      "/var/folders/nl/v2f_l95j0jx701ctszdv_thr0000gp/T/ipykernel_45642/1521442390.py:6: RuntimeWarning: invalid value encountered in divide\n",
      "  v_asym_s = (ks2 + ks3 + ks4 + ks5) / (4 * ks1)\n"
     ]
    }
   ],
   "source": [
    "ks1 = np.sqrt(ks_velo.cf[:, 1] ** 2 + ks_velo.cf[:, 2] ** 2)\n",
    "ks2 = np.sqrt(ks_velo.cf[:, 3] ** 2 + ks_velo.cf[:, 4] ** 2)\n",
    "ks3 = np.sqrt(ks_velo.cf[:, 5] ** 2 + ks_velo.cf[:, 6] ** 2)\n",
    "ks4 = np.sqrt(ks_velo.cf[:, 6] ** 2 + ks_velo.cf[:, 7] ** 2)\n",
    "ks5 = np.sqrt(ks_velo.cf[:, 8] ** 2 + ks_velo.cf[:, 10] ** 2)\n",
    "v_asym_s = (ks2 + ks3 + ks4 + ks5) / (4 * ks1)\n",
    "print(v_asym_s)\n",
    "kg1 = np.sqrt(kg_velo.cf[:, 1] ** 2 + kg_velo.cf[:, 2] ** 2)\n",
    "kg2 = np.sqrt(kg_velo.cf[:, 3] ** 2 + kg_velo.cf[:, 4] ** 2)\n",
    "kg3 = np.sqrt(kg_velo.cf[:, 5] ** 2 + kg_velo.cf[:, 6] ** 2)\n",
    "kg4 = np.sqrt(kg_velo.cf[:, 6] ** 2 + kg_velo.cf[:, 7] ** 2)\n",
    "kg5 = np.sqrt(kg_velo.cf[:, 8] ** 2 + kg_velo.cf[:, 10] ** 2)\n",
    "v_asym_g = (kg2 + kg3 + kg4 + kg5) / (4 * kg1)\n",
    "print(v_asym_g)"
   ],
   "metadata": {
    "collapsed": false,
    "ExecuteTime": {
     "start_time": "2023-06-20T15:48:30.473558Z",
     "end_time": "2023-06-20T15:48:30.473614Z"
    }
   }
  },
  {
   "cell_type": "code",
   "execution_count": 189,
   "outputs": [
    {
     "name": "stdout",
     "output_type": "stream",
     "text": [
      "[0.04553575 0.06116627 0.0681022  0.07701427 0.08602684]\n",
      "[0.01175835 0.03586107 0.05420072 0.06926596 0.08325725]\n",
      "[0.01095702 0.03341714 0.05050695 0.06454549 0.07758327]\n"
     ]
    }
   ],
   "source": [
    "print(v_asym_g)\n",
    "s = np.median(kg_sigma.cf[:,0])\n",
    "v = np.median(np.sqrt(kg_velo.cf[:,1]**2 + kg_velo.cf[:,2]**2))\n",
    "g_s05 = 4*(np.sqrt(0.5*v**2 + s**2))\n",
    "v_asym_g_new = (kg2+kg3+kg4+kg5)/g_s05\n",
    "print(v_asym_g_new)\n",
    "s = np.median(kg_sigma.cf[:, 0])\n",
    "v = np.max(np.sqrt(kg_velo.cf[:, 1] ** 2 + kg_velo.cf[:, 2] ** 2))\n",
    "g_s05 = 4*(np.sqrt(0.5 * v ** 2 + s ** 2))\n",
    "v_asym_g_new = (kg2 + kg3 + kg4 + kg5) / g_s05\n",
    "print(v_asym_g_new)"
   ],
   "metadata": {
    "collapsed": false,
    "ExecuteTime": {
     "start_time": "2023-06-20T15:48:30.481316Z",
     "end_time": "2023-06-20T15:48:30.481409Z"
    }
   }
  },
  {
   "cell_type": "code",
   "execution_count": 194,
   "outputs": [
    {
     "name": "stdout",
     "output_type": "stream",
     "text": [
      "og\n",
      "[1.23703959 0.59439813 0.82013664        nan        nan]\n",
      "median\n",
      "[0.8909826  1.27612596 1.81340682 0.         0.        ]\n",
      "max\n",
      "[0.49923759 0.71504207 1.01609262 0.         0.        ]\n"
     ]
    }
   ],
   "source": [
    "print(\"og\")\n",
    "print(v_asym_s)\n",
    "s = np.median(ks_sigma.cf[:,0])\n",
    "v = np.median(np.sqrt(ks_velo.cf[:,1]**2 + ks_velo.cf[:,2]**2))\n",
    "s_s05 = 4*(np.sqrt(0.5*v**2 + s**2))\n",
    "v_asym_s_new = (ks2+ks3+ks4+ks5)/s_s05\n",
    "print(\"median\")\n",
    "print(v_asym_s_new)\n",
    "s = np.median(ks_sigma.cf[:, 0])\n",
    "v = np.max(np.sqrt(ks_velo.cf[:, 1] ** 2 + ks_velo.cf[:, 2] ** 2))\n",
    "s_s05 = 4*(np.sqrt(0.5 * v ** 2 + s ** 2))\n",
    "v_asym_s_new = (ks2 + ks3 + ks4 + ks5) / s_s05\n",
    "print(\"max\")\n",
    "print(v_asym_s_new)"
   ],
   "metadata": {
    "collapsed": false,
    "ExecuteTime": {
     "start_time": "2023-06-20T15:49:36.576013Z",
     "end_time": "2023-06-20T15:49:36.576072Z"
    }
   }
  },
  {
   "cell_type": "code",
   "execution_count": 195,
   "outputs": [
    {
     "name": "stdout",
     "output_type": "stream",
     "text": [
      "[0.20698475 0.2196346  1.01609262        nan        nan]\n",
      "[1.23703959 0.59439813 0.82013664        nan        nan]\n"
     ]
    },
    {
     "name": "stderr",
     "output_type": "stream",
     "text": [
      "/var/folders/nl/v2f_l95j0jx701ctszdv_thr0000gp/T/ipykernel_45642/169244026.py:4: RuntimeWarning: invalid value encountered in divide\n",
      "  print((ks2 + ks3 + ks4 + ks5)/s05)\n",
      "/var/folders/nl/v2f_l95j0jx701ctszdv_thr0000gp/T/ipykernel_45642/169244026.py:5: RuntimeWarning: invalid value encountered in divide\n",
      "  print((ks2 + ks3 + ks4 + ks5)/(4*ks1))\n"
     ]
    }
   ],
   "source": [
    "v = np.sqrt(ks_velo.cf[:,1]**2 + ks_velo.cf[:,2]**2)\n",
    "s = ks_sigma.cf[:,0]\n",
    "s05 = 4*np.sqrt(0.5*v**2 + s**2)\n",
    "print((ks2 + ks3 + ks4 + ks5)/s05)\n",
    "print((ks2 + ks3 + ks4 + ks5)/(4*ks1))"
   ],
   "metadata": {
    "collapsed": false,
    "ExecuteTime": {
     "start_time": "2023-06-20T15:49:47.313675Z",
     "end_time": "2023-06-20T15:49:47.313751Z"
    }
   }
  },
  {
   "cell_type": "code",
   "execution_count": 161,
   "outputs": [
    {
     "name": "stdout",
     "output_type": "stream",
     "text": [
      "[34.2916124  54.42422398  0.          0.          0.        ]\n"
     ]
    }
   ],
   "source": [
    "\n",
    "print(ks2 + ks3 + ks4 + ks5)"
   ],
   "metadata": {
    "collapsed": false,
    "ExecuteTime": {
     "start_time": "2023-06-20T15:29:48.309469Z",
     "end_time": "2023-06-20T15:29:48.309548Z"
    }
   }
  },
  {
   "cell_type": "code",
   "execution_count": 164,
   "outputs": [
    {
     "data": {
      "text/plain": "array([54.10708006, 39.51538763,  0.        ,  0.        ,  0.        ])"
     },
     "execution_count": 164,
     "metadata": {},
     "output_type": "execute_result"
    }
   ],
   "source": [
    "s"
   ],
   "metadata": {
    "collapsed": false,
    "ExecuteTime": {
     "start_time": "2023-06-20T15:30:07.379947Z",
     "end_time": "2023-06-20T15:30:07.380032Z"
    }
   }
  },
  {
   "cell_type": "code",
   "execution_count": null,
   "outputs": [],
   "source": [],
   "metadata": {
    "collapsed": false
   }
  }
 ],
 "metadata": {
  "kernelspec": {
   "display_name": "Python 3",
   "language": "python",
   "name": "python3"
  },
  "language_info": {
   "codemirror_mode": {
    "name": "ipython",
    "version": 2
   },
   "file_extension": ".py",
   "mimetype": "text/x-python",
   "name": "python",
   "nbconvert_exporter": "python",
   "pygments_lexer": "ipython2",
   "version": "2.7.6"
  }
 },
 "nbformat": 4,
 "nbformat_minor": 0
}
