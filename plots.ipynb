{
 "cells": [
  {
   "cell_type": "code",
   "execution_count": 2,
   "metadata": {
    "collapsed": true,
    "ExecuteTime": {
     "start_time": "2023-04-19T08:57:12.590490Z",
     "end_time": "2023-04-19T08:57:14.903478Z"
    }
   },
   "outputs": [],
   "source": [
    "import numpy as np\n",
    "import matplotlib.pyplot as plt\n",
    "from astropy.io import fits,ascii\n",
    "import pandas as pd"
   ]
  },
  {
   "cell_type": "code",
   "execution_count": 5,
   "outputs": [
    {
     "data": {
      "text/plain": "     Unnamed: 0     MAGPIID  v_asym_g  v_asym_g_err  v_asym_s  v_asym_s_err  \\\n0             0  1201197192       NaN           NaN  0.065425      0.005676   \n1             1  1201197199       NaN           NaN  0.184724      0.012316   \n2             2  1201252223       NaN           NaN  0.105747      0.012368   \n4             4  1202197197  0.021959      0.000231  0.021354      0.001902   \n5             5  1203040085       NaN           NaN  0.039684      0.003969   \n..          ...         ...       ...           ...       ...           ...   \n102         102  2308198197  0.021040      0.000722  0.018987      0.001401   \n103         103  2308295194  0.068567      0.003846  0.069274      0.009807   \n104         104  2310167176  0.120256      0.002597  0.472603      0.025185   \n105         105  2310199196  0.085166      0.001410  0.024718      0.001698   \n106         106  2310313103  0.017702      0.000382  0.035927      0.002799   \n\n           PA_g        PA_s        D_PA     V_rot_g     V_rot_s  \n0           NaN   51.946735         NaN         NaN   47.971929  \n1           NaN  179.554250         NaN         NaN   52.783204  \n2           NaN  220.157232         NaN         NaN  105.891527  \n4    143.275431  142.602625    0.672806  216.363411  233.777779  \n5           NaN  267.289058         NaN         NaN  179.779489  \n..          ...         ...         ...         ...         ...  \n102  101.830122  104.475444    2.645322  281.223880  205.225966  \n103  210.672019   52.623296  158.048723   55.747392   48.900120  \n104   72.788734  124.639983   51.851249   70.580729  172.058263  \n105  301.372733  305.520827    4.148094  233.491455  218.036577  \n106   98.775244  105.822879    7.047635  185.020947  153.267530  \n\n[84 rows x 11 columns]",
      "text/html": "<div>\n<style scoped>\n    .dataframe tbody tr th:only-of-type {\n        vertical-align: middle;\n    }\n\n    .dataframe tbody tr th {\n        vertical-align: top;\n    }\n\n    .dataframe thead th {\n        text-align: right;\n    }\n</style>\n<table border=\"1\" class=\"dataframe\">\n  <thead>\n    <tr style=\"text-align: right;\">\n      <th></th>\n      <th>Unnamed: 0</th>\n      <th>MAGPIID</th>\n      <th>v_asym_g</th>\n      <th>v_asym_g_err</th>\n      <th>v_asym_s</th>\n      <th>v_asym_s_err</th>\n      <th>PA_g</th>\n      <th>PA_s</th>\n      <th>D_PA</th>\n      <th>V_rot_g</th>\n      <th>V_rot_s</th>\n    </tr>\n  </thead>\n  <tbody>\n    <tr>\n      <th>0</th>\n      <td>0</td>\n      <td>1201197192</td>\n      <td>NaN</td>\n      <td>NaN</td>\n      <td>0.065425</td>\n      <td>0.005676</td>\n      <td>NaN</td>\n      <td>51.946735</td>\n      <td>NaN</td>\n      <td>NaN</td>\n      <td>47.971929</td>\n    </tr>\n    <tr>\n      <th>1</th>\n      <td>1</td>\n      <td>1201197199</td>\n      <td>NaN</td>\n      <td>NaN</td>\n      <td>0.184724</td>\n      <td>0.012316</td>\n      <td>NaN</td>\n      <td>179.554250</td>\n      <td>NaN</td>\n      <td>NaN</td>\n      <td>52.783204</td>\n    </tr>\n    <tr>\n      <th>2</th>\n      <td>2</td>\n      <td>1201252223</td>\n      <td>NaN</td>\n      <td>NaN</td>\n      <td>0.105747</td>\n      <td>0.012368</td>\n      <td>NaN</td>\n      <td>220.157232</td>\n      <td>NaN</td>\n      <td>NaN</td>\n      <td>105.891527</td>\n    </tr>\n    <tr>\n      <th>4</th>\n      <td>4</td>\n      <td>1202197197</td>\n      <td>0.021959</td>\n      <td>0.000231</td>\n      <td>0.021354</td>\n      <td>0.001902</td>\n      <td>143.275431</td>\n      <td>142.602625</td>\n      <td>0.672806</td>\n      <td>216.363411</td>\n      <td>233.777779</td>\n    </tr>\n    <tr>\n      <th>5</th>\n      <td>5</td>\n      <td>1203040085</td>\n      <td>NaN</td>\n      <td>NaN</td>\n      <td>0.039684</td>\n      <td>0.003969</td>\n      <td>NaN</td>\n      <td>267.289058</td>\n      <td>NaN</td>\n      <td>NaN</td>\n      <td>179.779489</td>\n    </tr>\n    <tr>\n      <th>...</th>\n      <td>...</td>\n      <td>...</td>\n      <td>...</td>\n      <td>...</td>\n      <td>...</td>\n      <td>...</td>\n      <td>...</td>\n      <td>...</td>\n      <td>...</td>\n      <td>...</td>\n      <td>...</td>\n    </tr>\n    <tr>\n      <th>102</th>\n      <td>102</td>\n      <td>2308198197</td>\n      <td>0.021040</td>\n      <td>0.000722</td>\n      <td>0.018987</td>\n      <td>0.001401</td>\n      <td>101.830122</td>\n      <td>104.475444</td>\n      <td>2.645322</td>\n      <td>281.223880</td>\n      <td>205.225966</td>\n    </tr>\n    <tr>\n      <th>103</th>\n      <td>103</td>\n      <td>2308295194</td>\n      <td>0.068567</td>\n      <td>0.003846</td>\n      <td>0.069274</td>\n      <td>0.009807</td>\n      <td>210.672019</td>\n      <td>52.623296</td>\n      <td>158.048723</td>\n      <td>55.747392</td>\n      <td>48.900120</td>\n    </tr>\n    <tr>\n      <th>104</th>\n      <td>104</td>\n      <td>2310167176</td>\n      <td>0.120256</td>\n      <td>0.002597</td>\n      <td>0.472603</td>\n      <td>0.025185</td>\n      <td>72.788734</td>\n      <td>124.639983</td>\n      <td>51.851249</td>\n      <td>70.580729</td>\n      <td>172.058263</td>\n    </tr>\n    <tr>\n      <th>105</th>\n      <td>105</td>\n      <td>2310199196</td>\n      <td>0.085166</td>\n      <td>0.001410</td>\n      <td>0.024718</td>\n      <td>0.001698</td>\n      <td>301.372733</td>\n      <td>305.520827</td>\n      <td>4.148094</td>\n      <td>233.491455</td>\n      <td>218.036577</td>\n    </tr>\n    <tr>\n      <th>106</th>\n      <td>106</td>\n      <td>2310313103</td>\n      <td>0.017702</td>\n      <td>0.000382</td>\n      <td>0.035927</td>\n      <td>0.002799</td>\n      <td>98.775244</td>\n      <td>105.822879</td>\n      <td>7.047635</td>\n      <td>185.020947</td>\n      <td>153.267530</td>\n    </tr>\n  </tbody>\n</table>\n<p>84 rows × 11 columns</p>\n</div>"
     },
     "execution_count": 5,
     "metadata": {},
     "output_type": "execute_result"
    }
   ],
   "source": [
    "sample = pd.read_csv(\"MAGPI_csv/MAGPI_kinemetry_sample.csv\")\n",
    "sample = sample[sample[\"v_asym_s\"]/sample[\"v_asym_s_err\"]>3]\n"
   ],
   "metadata": {
    "collapsed": false,
    "ExecuteTime": {
     "start_time": "2023-04-19T08:58:03.361891Z",
     "end_time": "2023-04-19T08:58:03.369674Z"
    }
   }
  },
  {
   "cell_type": "code",
   "execution_count": null,
   "outputs": [],
   "source": [],
   "metadata": {
    "collapsed": false
   }
  }
 ],
 "metadata": {
  "kernelspec": {
   "display_name": "Python 3",
   "language": "python",
   "name": "python3"
  },
  "language_info": {
   "codemirror_mode": {
    "name": "ipython",
    "version": 2
   },
   "file_extension": ".py",
   "mimetype": "text/x-python",
   "name": "python",
   "nbconvert_exporter": "python",
   "pygments_lexer": "ipython2",
   "version": "2.7.6"
  }
 },
 "nbformat": 4,
 "nbformat_minor": 0
}
