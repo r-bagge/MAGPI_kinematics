{
 "cells": [
  {
   "cell_type": "code",
   "execution_count": 3,
   "metadata": {
    "collapsed": true,
    "ExecuteTime": {
     "start_time": "2023-04-28T15:00:49.784419Z",
     "end_time": "2023-04-28T15:00:49.798798Z"
    }
   },
   "outputs": [],
   "source": [
    "import numpy as np\n",
    "import matplotlib.pyplot as plt\n",
    "from astropy.io import fits,ascii\n",
    "import pandas as pd\n",
    "from astropy.cosmology import Planck18 as cosmo\n",
    "import astropy.units as u"
   ]
  },
  {
   "cell_type": "code",
   "execution_count": 4,
   "outputs": [],
   "source": [
    "sample = pd.read_csv(\"~/Documents/OneDrive - UNSW/MAGPI_csv/MAGPI_kinemetry_sample.csv\")\n",
    "sample = sample[sample[\"v_asym_s\"]/sample[\"v_asym_s_err\"]>3]\n",
    "prospect = pd.read_csv(\"~/Documents/OneDrive - UNSW/MAGPI_csv/MAGPI_ProSpectCat_v0.1.csv\")"
   ],
   "metadata": {
    "collapsed": false,
    "ExecuteTime": {
     "start_time": "2023-04-28T15:00:50.044268Z",
     "end_time": "2023-04-28T15:00:50.255314Z"
    }
   }
  },
  {
   "cell_type": "markdown",
   "source": [],
   "metadata": {
    "collapsed": false
   }
  },
  {
   "cell_type": "code",
   "execution_count": 15,
   "outputs": [
    {
     "name": "stdout",
     "output_type": "stream",
     "text": [
      "3.02 kpc\n"
     ]
    }
   ],
   "source": [
    "psf = 0.65\n",
    "dl = cosmo.luminosity_distance(z=0.35).to(u.kpc)\n",
    "d= np.radians((psf/2)/3600)*dl\n",
    "print(f\"{d:.2f}\")"
   ],
   "metadata": {
    "collapsed": false,
    "ExecuteTime": {
     "start_time": "2023-04-28T15:12:09.444558Z",
     "end_time": "2023-04-28T15:12:09.462859Z"
    }
   }
  },
  {
   "cell_type": "code",
   "execution_count": null,
   "outputs": [],
   "source": [],
   "metadata": {
    "collapsed": false
   }
  }
 ],
 "metadata": {
  "kernelspec": {
   "display_name": "Python 3",
   "language": "python",
   "name": "python3"
  },
  "language_info": {
   "codemirror_mode": {
    "name": "ipython",
    "version": 2
   },
   "file_extension": ".py",
   "mimetype": "text/x-python",
   "name": "python",
   "nbconvert_exporter": "python",
   "pygments_lexer": "ipython2",
   "version": "2.7.6"
  }
 },
 "nbformat": 4,
 "nbformat_minor": 0
}
