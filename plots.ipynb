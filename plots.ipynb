{
 "cells": [
  {
   "cell_type": "code",
   "execution_count": 163,
   "metadata": {
    "collapsed": true,
    "ExecuteTime": {
     "start_time": "2023-06-08T09:35:30.223410Z",
     "end_time": "2023-06-08T09:35:30.237611Z"
    }
   },
   "outputs": [],
   "source": [
    "import numpy as np\n",
    "import matplotlib.pyplot as plt\n",
    "from astropy.io import fits,ascii\n",
    "import pandas as pd\n",
    "from astropy.cosmology import Planck18 as cosmo\n",
    "import astropy.units as u\n",
    "import cmasher as cmr"
   ]
  },
  {
   "cell_type": "code",
   "execution_count": 164,
   "outputs": [],
   "source": [
    "sample = pd.read_csv(\"~/Documents/OneDrive - UNSW/MAGPI_csv/MAGPI_kinemetry_sample.csv\")\n",
    "#sample = sample[sample[\"v_asym_s\"]/sample[\"v_asym_s_err\"]>3]\n",
    "prospect = pd.read_csv(\"~/Documents/OneDrive - UNSW/MAGPI_csv/MAGPI_ProSpectCat_v0.1.csv\")\n",
    "bpt = pd.read_csv(\"~/Documents/OneDrive - UNSW/MAGPI_csv/MAGPI_kinemetry_sample_BPT.csv\")\n",
    "ssp = pd.read_csv(\"~/Documents/OneDrive - UNSW/MAGPI_csv/MAGPI_ApertureSpectra_StellarPops_V1.0_SPV.csv\")\n",
    "prospect = prospect[prospect[\"MAGPIID\"].isin(sample[\"MAGPIID\"])]\n",
    "bpt = bpt[bpt['MAGPIID'].isin(sample[\"MAGPIID\"])]\n",
    "ssp = ssp[ssp[\"MAGPIID\"].isin(sample[\"MAGPIID\"])]"
   ],
   "metadata": {
    "collapsed": false,
    "ExecuteTime": {
     "start_time": "2023-06-08T09:36:51.997002Z",
     "end_time": "2023-06-08T09:36:52.100462Z"
    }
   }
  },
  {
   "cell_type": "markdown",
   "source": [],
   "metadata": {
    "collapsed": false
   }
  },
  {
   "cell_type": "code",
   "execution_count": 223,
   "outputs": [
    {
     "name": "stderr",
     "output_type": "stream",
     "text": [
      "/var/folders/hn/phg07l9934x4013mnrp122c40000gn/T/ipykernel_20776/694222308.py:7: RuntimeWarning: divide by zero encountered in log10\n",
      "  s = np.log10(s)\n"
     ]
    },
    {
     "data": {
      "text/plain": "<Figure size 640x480 with 1 Axes>",
      "image/png": "[encoded data removed]"
     },
     "metadata": {},
     "output_type": "display_data"
    }
   ],
   "source": [
    "s = sample[\"v_asym_s\"].to_numpy()\n",
    "s[np.isnan(s)]=10**(-2.5)\n",
    "g = sample[\"v_asym_g\"].to_numpy()\n",
    "g[np.isnan(g)]=10**(-2.5)\n",
    "g = np.log10(g)\n",
    "#gg = g[g>-2.5]\n",
    "s = np.log10(s)\n",
    "#ss = s[s>-2.5]\n",
    "\n",
    "fig,ax = plt.subplots()\n",
    "ax.scatter(s[(g>-2.5) & (s>-2.5)],g[(g>-2.5) & (s>-2.5)])\n",
    "ax.\n",
    "plt.show()"
   ],
   "metadata": {
    "collapsed": false,
    "ExecuteTime": {
     "start_time": "2023-06-08T10:11:02.376435Z",
     "end_time": "2023-06-08T10:11:02.538158Z"
    }
   }
  },
  {
   "cell_type": "code",
   "execution_count": 216,
   "outputs": [
    {
     "name": "stdout",
     "output_type": "stream",
     "text": [
      "100\n",
      "54\n"
     ]
    }
   ],
   "source": [
    "print(len(ss))\n",
    "print(len(gg))"
   ],
   "metadata": {
    "collapsed": false,
    "ExecuteTime": {
     "start_time": "2023-06-08T10:02:48.453957Z",
     "end_time": "2023-06-08T10:02:48.460599Z"
    }
   }
  },
  {
   "cell_type": "code",
   "execution_count": 220,
   "outputs": [
    {
     "name": "stdout",
     "output_type": "stream",
     "text": [
      "[-0.62602326 -0.94447522 -2.5        -0.51271624 -0.3621004  -1.29994123]\n",
      "[-0.73453478 -0.57447211 -0.6686923  -0.85989036 -0.5416822  -0.24767227\n",
      "  0.19157383 -1.22465107 -0.44717345 -0.30683556 -0.57817072 -1.01796285\n",
      " -1.24235297 -0.08601816 -1.27554819 -0.90011393 -0.80111555  0.198668\n",
      "  0.16799228 -1.00687703 -1.3266855  -2.5        -0.00700425  0.14963737\n",
      " -1.08677587 -0.47959259 -1.37367981  0.17719302 -1.32179122 -0.54384159\n",
      " -0.25376986 -1.36481403 -0.07074913 -1.30797328 -0.54427535 -1.02876027\n",
      " -0.04597449 -0.94039196 -1.21104597 -1.22407559  0.20892545 -0.70027095\n",
      " -0.20640605 -0.46305504 -1.14751611 -0.39031645 -0.58615385 -0.96435426\n",
      " -0.89605827 -0.44314086 -0.60142749 -1.34473367 -0.18458425]\n"
     ]
    }
   ],
   "source": [
    "print(g[s==-2.5])\n",
    "print(s[g==-2.5])"
   ],
   "metadata": {
    "collapsed": false,
    "ExecuteTime": {
     "start_time": "2023-06-08T10:10:11.431014Z",
     "end_time": "2023-06-08T10:10:11.442313Z"
    }
   }
  },
  {
   "cell_type": "code",
   "execution_count": null,
   "outputs": [],
   "source": [],
   "metadata": {
    "collapsed": false
   }
  }
 ],
 "metadata": {
  "kernelspec": {
   "display_name": "Python 3",
   "language": "python",
   "name": "python3"
  },
  "language_info": {
   "codemirror_mode": {
    "name": "ipython",
    "version": 2
   },
   "file_extension": ".py",
   "mimetype": "text/x-python",
   "name": "python",
   "nbconvert_exporter": "python",
   "pygments_lexer": "ipython2",
   "version": "2.7.6"
  }
 },
 "nbformat": 4,
 "nbformat_minor": 0
}
