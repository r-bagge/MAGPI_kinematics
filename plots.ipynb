{
 "cells": [
  {
   "cell_type": "code",
   "execution_count": 1,
   "metadata": {
    "collapsed": true,
    "ExecuteTime": {
     "start_time": "2023-07-21T04:06:28.971401Z",
     "end_time": "2023-07-21T04:06:29.320307Z"
    }
   },
   "outputs": [
    {
     "ename": "ModuleNotFoundError",
     "evalue": "No module named 'pingouin'",
     "output_type": "error",
     "traceback": [
      "\u001B[0;31m---------------------------------------------------------------------------\u001B[0m",
      "\u001B[0;31mModuleNotFoundError\u001B[0m                       Traceback (most recent call last)",
      "Cell \u001B[0;32mIn[1], line 12\u001B[0m\n\u001B[1;32m     10\u001B[0m \u001B[38;5;28;01mfrom\u001B[39;00m \u001B[38;5;21;01mastropy\u001B[39;00m\u001B[38;5;21;01m.\u001B[39;00m\u001B[38;5;21;01mcosmology\u001B[39;00m \u001B[38;5;28;01mimport\u001B[39;00m Planck18 \u001B[38;5;28;01mas\u001B[39;00m cosmo\n\u001B[1;32m     11\u001B[0m \u001B[38;5;28;01mimport\u001B[39;00m \u001B[38;5;21;01mastropy\u001B[39;00m\u001B[38;5;21;01m.\u001B[39;00m\u001B[38;5;21;01munits\u001B[39;00m \u001B[38;5;28;01mas\u001B[39;00m \u001B[38;5;21;01mu\u001B[39;00m\n\u001B[0;32m---> 12\u001B[0m \u001B[38;5;28;01mimport\u001B[39;00m \u001B[38;5;21;01mpingouin\u001B[39;00m\n",
      "\u001B[0;31mModuleNotFoundError\u001B[0m: No module named 'pingouin'"
     ]
    }
   ],
   "source": [
    "import os.path\n",
    "\n",
    "import astropy.table\n",
    "import numpy as np\n",
    "import matplotlib.pyplot as plt\n",
    "import scipy.stats\n",
    "from astropy.io import fits,ascii\n",
    "import pandas as pd\n",
    "import cmasher as cmr\n",
    "from astropy.cosmology import Planck18 as cosmo\n",
    "import astropy.units as u\n",
    "import pingouin"
   ]
  },
  {
   "cell_type": "code",
   "execution_count": null,
   "outputs": [],
   "source": [
    "sample = pd.read_csv(\"/Users/ryanbagge/Library/CloudStorage/OneDrive-UNSW/MAGPI_csv/MAGPI_kinemetry_sample_s05.csv\")\n",
    "onere = pd.read_csv(\"/Users/ryanbagge/Library/CloudStorage/OneDrive-UNSW/MAGPI_csv/MAGPI_kinemetry_sample_1Re.csv\")\n",
    "prospect = pd.read_csv(\"/Users/ryanbagge/Library/CloudStorage/OneDrive-UNSW/MAGPI_csv/MAGPI_ProSpectCat_v0.1.csv\")\n",
    "galfit = pd.read_csv(\"/Users/ryanbagge/Library/CloudStorage/OneDrive-UNSW/MAGPI_csv/MAGPI_GalfitSersicCat_v0.1.csv\")\n",
    "ssp = pd.read_csv(\"/Users/ryanbagge/Library/CloudStorage/OneDrive-UNSW/MAGPI_csv/MAGPI_ApertureSpectra_StellarPops_V1.0_SPV.csv\")\n",
    "bpt = pd.read_csv('/Users/ryanbagge/Library/CloudStorage/OneDrive-UNSW/MAGPI_csv/MAGPI_kinemetry_sample_BPT.csv')\n",
    "master = pd.read_csv(\"/Users/ryanbagge/Library/CloudStorage/OneDrive-UNSW/MAGPI_csv/MAGPI_master_source_catalogue.csv\",skiprows=16)\n",
    "prospect = prospect[prospect['MAGPIID'].isin(onere[\"MAGPIID\"])]\n",
    "galfit = galfit[galfit[\"MAGPIID\"].isin(onere[\"MAGPIID\"])]\n",
    "bpt = bpt[bpt[\"MAGPIID\"].isin(onere[\"MAGPIID\"])]\n",
    "ssp = ssp[ssp[\"MAGPIID\"].isin(onere[\"MAGPIID\"])]\n",
    "master = master[master['MAGPIID'].isin(onere[\"MAGPIID\"])]\n",
    "sample = sample[sample[\"MAGPIID\"].isin(onere[\"MAGPIID\"])]"
   ],
   "metadata": {
    "collapsed": false,
    "ExecuteTime": {
     "start_time": "2023-07-21T04:06:28.993646Z",
     "end_time": "2023-07-21T04:06:29.331067Z"
    }
   }
  },
  {
   "cell_type": "code",
   "execution_count": null,
   "outputs": [],
   "source": [
    "# sample = pd.read_csv(\"MAGPI_Emission_Lines/kinemetry_sample_M2.csv\")\n",
    "# sample = sample[sample['v_asym_15re']<0.1]\n",
    "# sample = pd.read_csv(\"MAGPI_csv/MAGPI_kinemetry_sample.csv\")\n",
    "\n",
    "sample = pd.read_csv(\"/Users/ryanbagge/Library/CloudStorage/OneDrive-UNSW/MAGPI_csv/MAGPI_kinemetry_sample_s05.csv\")\n",
    "# SFMS & Mass\n",
    "t = ascii.read(\"/Users/ryanbagge/Library/CloudStorage/OneDrive-UNSW/MAGPI_csv/MAGPI_Balmer_SFRs_onedspec.tbl\")\n",
    "df=pd.DataFrame({\"MAGPIID\":np.array(t['MAGPI_ID']),\n",
    "                \"SFR\":np.array(t[\"SFR\"]),\n",
    "                \"SFR_err\":np.array(t[\"SFR_err\"])})\n",
    "df1 = df[df[\"MAGPIID\"].isin(sample[\"MAGPIID\"])]\n",
    "df2 = df[~df[\"MAGPIID\"].isin(sample[\"MAGPIID\"])]\n",
    "SFR = df1[\"SFR\"].to_numpy()\n",
    "bpt = pd.read_csv(\"/Users/ryanbagge/Library/CloudStorage/OneDrive-UNSW/MAGPI_csv/MAGPI_kinemetry_sample_BPT.csv\")\n",
    "#SFR = bpt[\"SFR, dust corrected\"].to_numpy()\n",
    "SFR_err = df1[\"SFR_err\"].to_numpy()\n",
    "SFR_2 = df2[\"SFR\"].to_numpy()\n",
    "SFR[np.isnan(SFR)]=10**(-3.1)\n",
    "prospect = pd.read_csv(\"/Users/ryanbagge/Library/CloudStorage/OneDrive-UNSW/MAGPI_csv/MAGPI_ProSpectCat_v0.1.csv\")\n",
    "M_sol = prospect[prospect[\"MAGPIID\"].isin(sample[\"MAGPIID\"])][\"StellarMass_median\"].to_numpy()\n",
    "mass_err_16 = M_sol-prospect[prospect[\"MAGPIID\"].isin(sample[\"MAGPIID\"])][\"StellarMass_16\"].to_numpy()\n",
    "mass_err_84 = prospect[prospect[\"MAGPIID\"].isin(sample[\"MAGPIID\"])][\"StellarMass_84\"].to_numpy()-M_sol\n",
    "M_sol_2 = prospect[prospect[\"MAGPIID\"].isin(df2[\"MAGPIID\"].to_numpy())][\"StellarMass_median\"].to_numpy()\n",
    "xx = np.logspace(7.5,11.5, 107)\n",
    "MS = (xx**0.712)*(10**-7.293)\n",
    "# Sersic\n",
    "galfit = pd.read_csv(\"/Users/ryanbagge/Library/CloudStorage/OneDrive-UNSW/MAGPI_csv/MAGPI_GalfitSersicCat_v0.1.csv\")\n",
    "galfit = galfit[~galfit[\"MAGPIID\"].isin(sample[\"MAGPIID\"])]\n",
    "n2 = galfit[\"n\"]\n",
    "n2 = n2[n2 > 0]\n",
    "re2 = galfit[\"re\"].to_numpy()\n",
    "#re2[re2==0]=np.nan\n",
    "dl = cosmo.luminosity_distance(galfit[\"z\"].to_numpy()).to(u.kpc).value\n",
    "re2 = (re2/3600)*dl\n",
    "galfit = pd.read_csv(\"/Users/ryanbagge/Library/CloudStorage/OneDrive-UNSW/MAGPI_csv/MAGPI_GalfitSersicCat_v0.1.csv\")\n",
    "galfit = galfit[galfit[\"MAGPIID\"].isin(sample[\"MAGPIID\"])]\n",
    "n = galfit[\"n\"]\n",
    "n = n[n > 0]\n",
    "re = galfit[\"re\"].to_numpy()\n",
    "dl = cosmo.luminosity_distance(galfit[\"z\"].to_numpy()).to(u.kpc).value\n",
    "re = (re/3600)*dl\n",
    "\n",
    "plt.rcParams.update({\"font.size\":15})\n",
    "fig, ((ax1, ax2), (ax3, ax4)) = plt.subplots(2, 2, figsize=(15, 10))\n",
    "# Sersic\n",
    "ax1.hist(n, zorder=2, label=\"Subsample\", bins=np.arange(1,8,0.35))\n",
    "ax1.hist(n2, label=\"All Galaxies\", color=\"k\", bins=np.arange(1,8,0.35), alpha=0.2)\n",
    "ax1.vlines(np.median(n), ymin=0, ymax=100,color=\"darkblue\",ls=\"dashdot\")\n",
    "ax1.vlines(np.mean(n), ymin=0, ymax=100,color=\"fuchsia\",ls=\"dashdot\")\n",
    "#ax.set_xscale(\"log\")\n",
    "ax1.set_yscale(\"log\")\n",
    "ax1.set_ylabel(\"N\")\n",
    "ax1.set_xlabel(r\"S$\\'{e}$rsic Index\")\n",
    "ax1.legend()\n",
    "# Environment\n",
    "ax2.hist(np.log10(re), label=\"Subsample\", zorder=2,bins=np.arange(1,4,0.20))\n",
    "#ax2.hist(N_Gals_0, zorder=2, label=\"No Env. Metrics\")\n",
    "ax2.hist(np.log10(re2), label=\"All Galaxies\", color=\"k\", alpha=0.2, zorder=1,bins=np.arange(1,4,0.20))\n",
    "ax2.set_yscale(\"log\")\n",
    "ax2.set_xlabel(r\"$\\log$ $R_e$ [kpc]\")\n",
    "ax2.vlines(np.median(np.log10(re)), ymin=0, ymax=300,color=\"darkblue\",linestyles=\"dashdot\")\n",
    "ax2.vlines(np.mean(np.log10(re)),ymin=0, ymax=300,color=\"fuchsia\",ls=\"dashdot\")\n",
    "ax2.set_ylabel(\"N\")\n",
    "#ax2.legend()\n",
    "ax2.set_xlim(1.05,4.05)\n",
    "# Mass\n",
    "ax3.hist(np.log10(M_sol), zorder=2, label=\"Subsample\", bins=np.arange(6,13,0.5))\n",
    "ax3.hist(np.log10(M_sol_2), label=\"All Galaxies\", color=\"k\", bins=np.arange(6,13,0.5), alpha=0.2)\n",
    "ax3.vlines(np.median(np.log10(M_sol)), ymin=0, ymax=300,color=\"darkblue\",ls=\"dashdot\")\n",
    "ax3.vlines(np.mean(np.log10(M_sol)), ymin=0, ymax=300,color=\"fuchsia\",ls=\"dashdot\")\n",
    "ax3.set_ylabel(\"N\")\n",
    "ax3.set_yscale(\"log\")\n",
    "ax3.set_xlabel(r\"$\\log$Stellar Mass [M$_\\odot$]\")\n",
    "#ax3.legend()\n",
    "# SFMS\n",
    "ax4.scatter(M_sol[SFR>10**(-3)], SFR[SFR>10**(-3)], zorder=3, label=\"Subsample\", ec=\"k\")\n",
    "ax4.scatter(M_sol[SFR<10**(-3)], SFR[SFR<10**(-3)], zorder=3, ec=\"k\",marker=\"v\")\n",
    "ax4.errorbar(M_sol, SFR, xerr=[mass_err_16,mass_err_84], yerr=SFR_err, zorder=2, fmt=\".c\", ls=\"\")\n",
    "ax4.scatter(M_sol_2, SFR_2, zorder=1, alpha=0.2, c=\"k\", label=\"All Galaxies\")\n",
    "ax4.plot(xx, MS, ls=\"dashdot\", c=\"magenta\")\n",
    "ax4.set_xscale(\"log\")\n",
    "ax4.set_yscale(\"log\")\n",
    "ax4.set_ylim(1e-4, 300)\n",
    "ax4.set_xlabel(r\"Stellar Mass [M$_\\odot$]\")\n",
    "ax4.set_ylabel(r\"Star Formation Rate [M$_\\odot$ yr$^{-1}$]\")\n",
    "ax4.legend()\n",
    "for ax in [ax2, ax4]:\n",
    "    ax.yaxis.tick_right()\n",
    "    ax.yaxis.set_label_position(\"right\")\n",
    "plt.subplots_adjust(hspace=0.2, wspace=0.1)\n",
    "plt.savefig(\"/Users/ryanbagge/Library/CloudStorage/OneDrive-UNSW/MAGPI_Plots/plots/paper2/SFMS_Mass_Sersic_Env.pdf\", bbox_inches=\"tight\")\n",
    "print(np.median(np.log10(M_sol)))\n",
    "print(np.mean(np.log10(M_sol_2)))\n",
    "print(np.median(n))\n",
    "print(np.mean(n))\n",
    "print(np.median(re))\n",
    "print(np.mean(re))"
   ],
   "metadata": {
    "collapsed": false,
    "ExecuteTime": {
     "start_time": "2023-07-21T04:06:29.226209Z",
     "end_time": "2023-07-21T04:06:40.371262Z"
    }
   }
  },
  {
   "cell_type": "code",
   "execution_count": null,
   "outputs": [],
   "source": [
    "onre = pd.read_csv(\"/Users/ryanbagge/Library/CloudStorage/OneDrive-UNSW/MAGPI_csv/MAGPI_kinemetry_sample_1Re.csv\")\n",
    "sample = sample[sample[\"MAGPIID\"].isin(onre[\"MAGPIID\"])]\n",
    "galfit = pd.read_csv(\"/Users/ryanbagge/Library/CloudStorage/OneDrive-UNSW/MAGPI_csv/MAGPI_GalfitSersicCat_v0.1.csv\")\n",
    "galfit = galfit[galfit[\"MAGPIID\"].isin(onre[\"MAGPIID\"])]\n",
    "vs_s05 = sample[\"v_asym_s\"].to_numpy()\n",
    "vs_s05_err=sample[\"v_asym_s_err\"].to_numpy()\n",
    "vg_s05 = sample[\"v_asym_g\"].to_numpy()\n",
    "vg_s05_err=sample[\"v_asym_g_err\"].to_numpy()\n",
    "vs_onere = onere[\"v_asym_s\"].to_numpy()\n",
    "vs_onere_err = onere[\"v_asym_s_err\"].to_numpy()\n",
    "vg_onere = onere[\"v_asym_g\"].to_numpy()\n",
    "vg_onere_err = onere[\"v_asym_g_err\"].to_numpy()\n",
    "n = galfit[\"n\"].to_numpy()\n",
    "fig,ax = plt.subplots(1,2,figsize=(15,4))\n",
    "ax[0].scatter(n,vs_s05,zorder=2,label=\"Stars\")\n",
    "ax[0].scatter(n,vg_s05,zorder=2,label=\"Gas\")\n",
    "ax[0].errorbar(n,vs_s05,yerr=vs_s05_err,ls=\"\",color=\"grey\",zorder=1)\n",
    "ax[0].errorbar(n,vg_s05,yerr=vg_s05_err,ls=\"\",color=\"grey\",zorder=1)\n",
    "ax[1].scatter(n,vs_onere,zorder=3,label=\"Stars\")\n",
    "ax[1].scatter(n,vg_onere,zorder=3,label=\"Gas\")\n",
    "ax[1].errorbar(n,vs_s05,yerr=vs_onere_err,ls=\"\",color=\"grey\",zorder=2)\n",
    "ax[1].errorbar(n,vg_s05,yerr=vg_onere_err,ls=\"\",color=\"grey\",zorder=2)\n",
    "for axes in ax.flat:\n",
    "    axes.set_yscale(\"log\")\n",
    "    axes.set_yscale(\"log\")\n",
    "    axes.set_ylim(8e-3,8)\n",
    "    axes.set_xlim(0.3,8.3)\n",
    "#ax.set_xlabel(r\"S$\\'{\\rm e}$rsic index\")\n",
    "ax[0].set_ylabel(r\"v$_{\\rm asym}$ [S$_{0.5}$]\")\n",
    "ax[1].set_ylabel(r\"v$_{\\rm asym}$ [k$_1$]\")\n",
    "ax[0].legend()\n",
    "ax[1].yaxis.tick_right()\n",
    "ax[1].yaxis.set_label_position(\"right\")\n",
    "plt.subplots_adjust(wspace=0)\n",
    "plt.savefig(\"/Users/ryanbagge/Library/CloudStorage/OneDrive-UNSW/MAGPI_Plots/plots/paper2/s05_vs_k1.pdf\",\n",
    "            bbox_inches=\"tight\")"
   ],
   "metadata": {
    "collapsed": false,
    "ExecuteTime": {
     "start_time": "2023-07-21T04:06:40.368304Z",
     "end_time": "2023-07-21T04:06:43.396606Z"
    }
   }
  },
  {
   "cell_type": "code",
   "execution_count": null,
   "outputs": [],
   "source": [
    "sample = pd.read_csv(\"/Users/ryanbagge/Library/CloudStorage/OneDrive-UNSW/MAGPI_csv/MAGPI_kinemetry_sample_s05.csv\")\n",
    "# onere = pd.read_csv(\"/Users/ryanbagge/Library/CloudStorage/OneDrive-UNSW/MAGPI_csv/MAGPI_kinemetry_sample_1Re.csv\")\n",
    "prospect = pd.read_csv(\"/Users/ryanbagge/Library/CloudStorage/OneDrive-UNSW/MAGPI_csv/MAGPI_ProSpectCat_v0.1.csv\")\n",
    "galfit = pd.read_csv(\"/Users/ryanbagge/Library/CloudStorage/OneDrive-UNSW/MAGPI_csv/MAGPI_GalfitSersicCat_v0.1.csv\")\n",
    "ssp = pd.read_csv(\"/Users/ryanbagge/Library/CloudStorage/OneDrive-UNSW/MAGPI_csv/MAGPI_ApertureSpectra_StellarPops_V1.0_SPV.csv\")\n",
    "bpt = pd.read_csv('/Users/ryanbagge/Library/CloudStorage/OneDrive-UNSW/MAGPI_csv/MAGPI_kinemetry_sample_BPT.csv')\n",
    "master = pd.read_csv(\"/Users/ryanbagge/Library/CloudStorage/OneDrive-UNSW/MAGPI_csv/MAGPI_master_source_catalogue.csv\",skiprows=16)\n",
    "prospect = prospect[prospect['MAGPIID'].isin(sample[\"MAGPIID\"])]\n",
    "galfit = galfit[galfit[\"MAGPIID\"].isin(sample[\"MAGPIID\"])]\n",
    "bpt = bpt[bpt[\"MAGPIID\"].isin(sample[\"MAGPIID\"])]\n",
    "ssp = ssp[ssp[\"MAGPIID\"].isin(sample[\"MAGPIID\"])]\n",
    "master = master[master['MAGPIID'].isin(sample[\"MAGPIID\"])]\n",
    "#sample = sample[sample[\"MAGPIID\"].isin(onere[\"MAGPIID\"])]\n",
    "\n",
    "vs = sample[\"v_asym_s\"].to_numpy()\n",
    "vs_err=sample[\"v_asym_s_err\"].to_numpy()\n",
    "vg = sample[\"v_asym_g\"].to_numpy()\n",
    "vg_err=sample[\"v_asym_g_err\"].to_numpy()\n",
    "age = ssp[\"logage_LW_1re\"].to_numpy()\n",
    "\n",
    "vs_err[np.isnan(vs)]=0\n",
    "vg_err[np.isnan(vg)]=0\n",
    "vs[np.isnan(vs)]=1e-3\n",
    "vg[np.isnan(vg)]=1e-3\n",
    "\n",
    "fig,ax=plt.subplots()\n",
    "p=ax.scatter(vs,vg,ec=\"k\",zorder=2)\n",
    "ax.errorbar(vs,vg,xerr=vs_err,yerr=vg_err,color=\"grey\",ls='',zorder=1)\n",
    "ax.plot(np.logspace(-3.2,0.7),np.logspace(-3.2,0.7),ls=\"dashdot\",color=\"k\")\n",
    "ax.set_xlabel(r\"$v_{asym}$ [Stars]\")\n",
    "ax.set_ylabel(r\"$v_{asym}$ [Gas]\")\n",
    "ax.set_xscale(\"log\")\n",
    "ax.set_yscale(\"log\")\n",
    "ax.set_xlim(10**(-3.2),10**(0.3))\n",
    "ax.set_ylim(10**(-3.2),10**(0.3))\n",
    "ax.vlines(x=np.std(vs[vs>2e-3]),ymin=10**(-3.2),ymax=np.std(vg[vg>2e-3]),color='k',ls=\"dashed\")\n",
    "ax.hlines(y=np.std(vg[vg>2e-3]),xmin=10**(-3.2),xmax=np.std(vs[vs>2e-3]),color=\"k\",ls=\"dashed\")\n",
    "plt.savefig(\"/Users/ryanbagge/Library/CloudStorage/OneDrive-UNSW/MAGPI_Plots/plots/paper2/s05_gas_stars.pdf\",bbox_inches=\"tight\")\n",
    "\n",
    "fig,ax=plt.subplots()\n",
    "p=ax.scatter(vs,vg,c=age,zorder=2)\n",
    "ax.errorbar(vs,vg,xerr=vs_err,yerr=vg_err,color=\"grey\",ls='',zorder=1)\n",
    "ax.plot(np.logspace(-3.2,0.7),np.logspace(-3.2,0.7),ls=\"dashdot\",color=\"k\")\n",
    "ax.set_xlabel(r\"$v_{asym}$ [Stars]\")\n",
    "ax.set_ylabel(r\"$v_{asym}$ [Gas]\")\n",
    "ax.set_xscale(\"log\")\n",
    "ax.set_yscale(\"log\")\n",
    "cbar = plt.colorbar(p,ax=ax,fraction=0.05,pad=0.00,label=r\"$\\log$ Age [yr]\")\n",
    "ax.set_xlim(10**(-3.2),10**(0.3))\n",
    "ax.set_ylim(10**(-3.2),10**(0.3))\n",
    "ax.vlines(x=np.std(vs[vs>2e-3]),ymin=10**(-3.2),ymax=np.std(vg[vg>2e-3]),color='magenta')\n",
    "ax.hlines(y=np.std(vg[vg>2e-3]),xmin=10**(-3.2),xmax=np.std(vs[vs>2e-3]),color=\"magenta\")\n",
    "#cbar.ax.set_yticklabels([8.95,9.05,9.15,9.25,9.35,9.45,9.55,9.65,9.75])\n",
    "plt.savefig(\"/Users/ryanbagge/Library/CloudStorage/OneDrive-UNSW/MAGPI_Plots/plots/paper2/s05_gas_stars_age.pdf\",bbox_inches=\"tight\")\n",
    "\n",
    "fig,ax=plt.subplots()\n",
    "p=ax.scatter(vs,vg,c=galfit[\"n\"],vmin=0.9,vmax=5.1,zorder=2)\n",
    "ax.errorbar(vs,vg,xerr=vs_err,yerr=vg_err,color=\"grey\",ls='',zorder=1)\n",
    "ax.plot(np.logspace(-3.2,0.7),np.logspace(-3.2,0.7),ls=\"dashdot\",color=\"k\")\n",
    "ax.set_xlabel(r\"$v_{asym}$ [Stars]\")\n",
    "ax.set_ylabel(r\"$v_{asym}$ [Gas]\")\n",
    "ax.set_xscale(\"log\")\n",
    "ax.set_yscale(\"log\")\n",
    "plt.colorbar(p,ax=ax,fraction=0.05,pad=0.00,label=\"Sersic\")\n",
    "ax.set_xlim(10**(-3.2),10**(0.7))\n",
    "ax.set_ylim(10**(-3.2),10**(0.7))\n",
    "ax.vlines(x=np.std(vs[vs>2e-3]),ymin=10**(-3.2),ymax=np.std(vg[vg>2e-3]),color='magenta')\n",
    "ax.hlines(y=np.std(vg[vg>2e-3]),xmin=10**(-3.2),xmax=np.std(vs[vs>2e-3]),color=\"magenta\")\n",
    "plt.savefig(\"/Users/ryanbagge/Library/CloudStorage/OneDrive-UNSW/MAGPI_Plots/plots/paper2/s05_gas_stars_sersic.pdf\",bbox_inches=\"tight\")"
   ],
   "metadata": {
    "collapsed": false,
    "ExecuteTime": {
     "start_time": "2023-07-21T04:06:43.395175Z",
     "end_time": "2023-07-21T04:06:51.088697Z"
    }
   }
  },
  {
   "cell_type": "code",
   "execution_count": null,
   "outputs": [],
   "source": [
    "fig,(ax1,ax2) = plt.subplots(1,2,sharey=\"row\",figsize=(12,4))\n",
    "ax1.scatter(10**(age[vs>2e-3]),vs[vs>2e-3],zorder=2)\n",
    "ax1.errorbar(10**(age[vs>2e-3]),vs[vs>2e-3],yerr=vs_err[vs>2e-3],ls=\"\",color=\"grey\",zorder=1)\n",
    "ax1.scatter(10**(age[vs<2e-3]),vs[vs<2e-3],zorder=2)\n",
    "ax1.errorbar(10**(age[vs<2e-3]),vs[vs<2e-3],yerr=vs_err[vs<2e-3],ls=\"\",color=\"grey\",zorder=1)\n",
    "ax1.scatter(10**(age[vg<2e-3]),vs[vg<2e-3],zorder=2)\n",
    "ax1.errorbar(10**(age[vg<2e-3]),vs[vg<2e-3],yerr=vs_err[vg<2e-3],ls=\"\",color=\"grey\",zorder=1)\n",
    "ax2.scatter(10**(age[vs>2e-3]),vg[vs>2e-3],zorder=2)\n",
    "ax2.errorbar(10**(age[vs>2e-3]),vg[vs>2e-3],yerr=vg_err[vs>2e-3],ls=\"\",color=\"grey\",zorder=1)\n",
    "ax2.scatter(10**(age[vs<2e-3]),vg[vs<2e-3],zorder=2)\n",
    "ax2.errorbar(10**(age[vs<2e-3]),vg[vs<2e-3],yerr=vg_err[vs<2e-3],ls=\"\",color=\"grey\",zorder=1)\n",
    "ax2.scatter(10**(age[vg<2e-3]),vg[vg<2e-3],zorder=2)\n",
    "ax2.errorbar(10**(age[vg<2e-3]),vg[vg<2e-3],yerr=vg_err[vg<2e-3],ls=\"\",color=\"grey\",zorder=1)\n",
    "ax1.hlines(y=np.std(vs[vs>2e-3]),xmin=10**7,xmax=10**12,color=\"magenta\")\n",
    "ax2.hlines(y=np.std(vg[vg>2e-3]),xmin=10**7,xmax=10**12,color=\"magenta\")\n",
    "for ax in [ax1,ax2]:\n",
    "    ax.set_xlim(10**(7.8),10**(10.2))\n",
    "ax2.set_yscale(\"log\")\n",
    "ax1.set_xscale(\"log\")\n",
    "ax2.set_xscale(\"log\")\n",
    "ax1.set_title(\"Stars\")\n",
    "ax2.set_title(\"Gas\")\n",
    "ax1.set_ylabel(r\"$v_{asym}$\")\n",
    "ax1.set_xlabel(r\"Stellar Age [yr]\")\n",
    "ax2.set_xlabel(r\"Stellar Age [yr]\")\n",
    "ax2.yaxis.tick_right()\n",
    "ax2.yaxis.set_label_position(\"right\")\n",
    "plt.subplots_adjust(wspace=0)\n",
    "plt.savefig(\"/Users/ryanbagge/Library/CloudStorage/OneDrive-UNSW/MAGPI_Plots/plots/paper2/asym_vs_age.pdf\",bbox_inches=\"tight\")\n",
    "\n",
    "mass = prospect[\"StellarMass_median\"].to_numpy()\n",
    "fig,(ax1,ax2) = plt.subplots(1,2,sharey=\"row\",figsize=(12,4))\n",
    "ax1.scatter(mass[vs>2e-3],vs[vs>2e-3],zorder=2)\n",
    "ax1.errorbar(mass[vs>2e-3],vs[vs>2e-3],yerr=vs_err[vs>2e-3],ls=\"\",color=\"grey\",zorder=1)\n",
    "ax1.scatter(mass[vs<2e-3],vs[vs<2e-3],zorder=2)\n",
    "ax1.errorbar(mass[vs<2e-3],vs[vs<2e-3],yerr=vs_err[vs<2e-3],ls=\"\",color=\"grey\",zorder=1)\n",
    "ax1.scatter(mass[vg<2e-3],vs[vg<2e-3],zorder=2)\n",
    "ax1.errorbar(mass[vg<2e-3],vs[vg<2e-3],yerr=vs_err[vg<2e-3],ls=\"\",color=\"grey\",zorder=1)\n",
    "ax2.scatter(mass[vs>2e-3],vg[vs>2e-3],zorder=2)\n",
    "ax2.errorbar(mass[vs>2e-3],vg[vs>2e-3],yerr=vg_err[vs>2e-3],ls=\"\",color=\"grey\",zorder=1)\n",
    "ax2.scatter(mass[vs<2e-3],vg[vs<2e-3],zorder=2)\n",
    "ax2.errorbar(mass[vs<2e-3],vg[vs<2e-3],yerr=vg_err[vs<2e-3],ls=\"\",color=\"grey\",zorder=1)\n",
    "ax2.scatter(mass[vg<2e-3],vg[vg<2e-3],zorder=2)\n",
    "ax2.errorbar(mass[vg<2e-3],vg[vg<2e-3],yerr=vg_err[vg<2e-3],ls=\"\",color=\"grey\",zorder=1)\n",
    "ax1.hlines(y=np.std(vs[vs>2e-3]),xmin=10**7,xmax=10**13,color=\"magenta\")\n",
    "ax2.hlines(y=np.std(vg[vg>2e-3]),xmin=10**7,xmax=10**13,color=\"magenta\")\n",
    "for ax in [ax1,ax2]:\n",
    "    ax.set_xlim(10**(8.8),10**(12.4))\n",
    "ax2.set_yscale(\"log\")\n",
    "ax2.set_xscale(\"log\")\n",
    "ax1.set_xscale(\"log\")\n",
    "ax1.set_title(\"Stars\")\n",
    "ax2.set_title(\"Gas\")\n",
    "ax1.set_ylabel(r\"$v_{asym}$\")\n",
    "ax1.set_xlabel(r\"Stellar Mass [M$_\\odot$]\")\n",
    "ax2.set_xlabel(r\"Stellar Mass [M$_\\odot$]\")\n",
    "ax2.yaxis.tick_right()\n",
    "ax2.yaxis.set_label_position(\"right\")\n",
    "plt.subplots_adjust(wspace=0)\n",
    "plt.savefig(\"/Users/ryanbagge/Library/CloudStorage/OneDrive-UNSW/MAGPI_Plots/plots/paper2/asym_vs_mass.pdf\",bbox_inches=\"tight\")\n",
    "\n",
    "env = pd.read_csv(\"/Users/ryanbagge/Library/CloudStorage/OneDrive-UNSW/MAGPI_csv/kinemetry_sample_env.csv\")\n",
    "env = env[env[\"MAGPIID\"].isin(sample[\"MAGPIID\"])]\n",
    "env_sample = sample[sample[\"MAGPIID\"].isin(env[\"MAGPIID\"])]\n",
    "vs = env_sample[\"v_asym_s\"].to_numpy()\n",
    "vs_err=env_sample[\"v_asym_s_err\"].to_numpy()\n",
    "vg = env_sample[\"v_asym_g\"].to_numpy()\n",
    "vg_err=env_sample[\"v_asym_g_err\"].to_numpy()\n",
    "d1 = env[\"d1,kpc\"].to_numpy()\n",
    "fig,(ax1,ax2) = plt.subplots(1,2,sharey=\"row\",figsize=(12,4))\n",
    "ax1.scatter(d1[vs>2e-3],vs[vs>2e-3],zorder=2)\n",
    "ax1.errorbar(d1[vs>2e-3],vs[vs>2e-3],yerr=vs_err[vs>2e-3],ls=\"\",color=\"grey\",zorder=1)\n",
    "ax1.scatter(d1[vs<2e-3],vs[vs<2e-3],zorder=2)\n",
    "ax1.errorbar(d1[vs<2e-3],vs[vs<2e-3],yerr=vs_err[vs<2e-3],ls=\"\",color=\"grey\",zorder=1)\n",
    "ax1.scatter(d1[vg<2e-3],vs[vg<2e-3],zorder=2)\n",
    "ax1.errorbar(d1[vg<2e-3],vs[vg<2e-3],yerr=vs_err[vg<2e-3],ls=\"\",color=\"grey\",zorder=1)\n",
    "ax2.scatter(d1[vs>2e-3],vg[vs>2e-3],zorder=2)\n",
    "ax2.errorbar(d1[vs>2e-3],vg[vs>2e-3],yerr=vg_err[vs>2e-3],ls=\"\",color=\"grey\",zorder=1)\n",
    "ax2.scatter(d1[vs<2e-3],vg[vs<2e-3],zorder=2)\n",
    "ax2.errorbar(d1[vs<2e-3],vg[vs<2e-3],yerr=vg_err[vs<2e-3],ls=\"\",color=\"grey\",zorder=1)\n",
    "ax2.scatter(d1[vg<2e-3],vg[vg<2e-3],zorder=2)\n",
    "ax2.errorbar(d1[vg<2e-3],vg[vg<2e-3],yerr=vg_err[vg<2e-3],ls=\"\",color=\"grey\",zorder=1)\n",
    "ax1.hlines(y=np.std(vs[vs>2e-3]),xmin=0,xmax=250,color=\"magenta\")\n",
    "ax2.hlines(y=np.std(vg[vg>2e-3]),xmin=0,xmax=250,color=\"magenta\")\n",
    "for ax in [ax1,ax2]:\n",
    "    ax.set_xlim(0,225)\n",
    "ax2.set_yscale(\"log\")\n",
    "#ax2.set_xscale(\"log\")\n",
    "#ax1.set_xscale(\"log\")\n",
    "ax1.set_title(\"Stars\")\n",
    "ax2.set_title(\"Gas\")\n",
    "ax1.set_ylabel(r\"$v_{asym}$\")\n",
    "ax1.set_xlabel(r\"$d_1$ [kpc]\")\n",
    "ax2.set_xlabel(r\"$d_1$ [kpc]\")\n",
    "ax2.yaxis.tick_right()\n",
    "ax2.yaxis.set_label_position(\"right\")\n",
    "plt.subplots_adjust(wspace=0)\n",
    "plt.savefig(\"/Users/ryanbagge/Library/CloudStorage/OneDrive-UNSW/MAGPI_Plots/plots/paper2/asym_vs_d1.pdf\",bbox_inches=\"tight\")"
   ],
   "metadata": {
    "collapsed": false,
    "ExecuteTime": {
     "start_time": "2023-07-21T04:06:51.143667Z",
     "end_time": "2023-07-21T04:07:00.233451Z"
    }
   }
  },
  {
   "cell_type": "code",
   "execution_count": null,
   "outputs": [],
   "source": [
    "env = pd.read_csv(\"/Users/ryanbagge/Library/CloudStorage/OneDrive-UNSW/MAGPI_csv/kinemetry_sample_env.csv\")\n",
    "\n",
    "master = pd.read_csv(\"/Users/ryanbagge/Library/CloudStorage/OneDrive-UNSW/MAGPI_csv/\"\n",
    "                     \"MAGPI_master_source_catalogue.csv\",skiprows=16)\n",
    "from astropy.cosmology import Planck18 as cosmo\n",
    "import astropy.units as u\n",
    "#master = master[master[\"MAGPIID\"].isin(sample[\"MAGPIID\"])]\n",
    "gal = np.zeros(len(env))\n",
    "d1_ = np.zeros(len(env))\n",
    "for i in range(len(env)):\n",
    "    group = env[env['GroupName'].isin([env[\"GroupName\"].to_numpy()[i]])]\n",
    "    group_master = master[master[\"MAGPIID\"].isin(group[\"MAGPIID\"])]\n",
    "    #print([env_sample['MAGPIID'].to_numpy()[i]])\n",
    "    sample_master = master[master['MAGPIID'].isin([env['MAGPIID'].to_numpy()[i]])]\n",
    "    x = group_master[\"xmax\"].to_numpy()\n",
    "    y = group_master[\"ymax\"].to_numpy()\n",
    "    #print(x,y)\n",
    "    x0 = sample_master[\"xmax\"].to_numpy()[0]\n",
    "    y0 = sample_master[\"ymax\"].to_numpy()[0]\n",
    "    z = sample_master[\"z\"].to_numpy()[0]\n",
    "    gal[i] = sample_master[\"MAGPIID\"].to_numpy()[0]\n",
    "    #print(x0,y0)\n",
    "    d1 = np.sqrt((x-x0)**2 + (y-y0)**2)\n",
    "    d1 = np.min(d1[d1>0])\n",
    "    cd = cosmo.comoving_distance(z).to(u.kpc).value\n",
    "    d1 = np.radians(d1*(0.2/3600))\n",
    "    d1 = d1*cd\n",
    "    d1_[i] = d1\n",
    "env[\"d1,kpc\"] = d1_\n",
    "env.to_csv(\"/Users/ryanbagge/Library/CloudStorage/OneDrive-UNSW/MAGPI_csv/kinemetry_sample_env.csv\")"
   ],
   "metadata": {
    "collapsed": false,
    "ExecuteTime": {
     "start_time": "2023-07-21T04:07:00.241531Z",
     "end_time": "2023-07-21T04:07:02.713550Z"
    }
   }
  },
  {
   "cell_type": "code",
   "execution_count": null,
   "outputs": [],
   "source": [
    "dpa =pd.read_csv(\"/Users/ryanbagge/Library/CloudStorage/OneDrive-UNSW/MAGPI_csv/MAGPI_kinemetry_sample_1Re.csv\")\n",
    "sample = sample[sample[\"MAGPIID\"].isin(dpa[\"MAGPIID\"])]\n",
    "ssp = pd.read_csv(\"/Users/ryanbagge/Library/CloudStorage/OneDrive-UNSW/MAGPI_csv/MAGPI_ApertureSpectra_StellarPops_V1.0_SPV.csv\")\n",
    "ssp = ssp[ssp[\"MAGPIID\"].isin(dpa[\"MAGPIID\"])]\n",
    "vs = sample[\"v_asym_s\"].to_numpy()\n",
    "vs_err=sample[\"v_asym_s_err\"].to_numpy()\n",
    "vg = sample[\"v_asym_g\"].to_numpy()\n",
    "vg_err=sample[\"v_asym_g_err\"].to_numpy()\n",
    "age = ssp[\"logage_LW_1re\"].to_numpy()\n",
    "vs_err[np.isnan(vs)]=0\n",
    "vg_err[np.isnan(vg)]=0\n",
    "vs[np.isnan(vs)]=1e-3\n",
    "vg[np.isnan(vg)]=1e-3\n",
    "fig,ax = plt.subplots(1,2,figsize=(12,4),sharey=\"row\")\n",
    "p=ax[0].scatter(10**(age[vs>2e-3]),vs[vs>2e-3],zorder=2,c=dpa['D_PA'].to_numpy()[vs>2e-3],vmin=0,vmax=180)\n",
    "ax[0].errorbar(10**(age[vs>2e-3]),vs[vs>2e-3],yerr=vs_err[vs>2e-3],ls=\"\",color=\"grey\",zorder=1)\n",
    "ax[0].scatter(10**(age[vs<2e-3]),vs[vs<2e-3],c=\"g\",zorder=2)\n",
    "ax[0].errorbar(10**(age[vs<2e-3]),vs[vs<2e-3],yerr=vs_err[vs<2e-3],ls=\"\",color=\"grey\",zorder=1)\n",
    "ax[0].scatter(10**(age[vg<2e-3]),vs[vg<2e-3],c=\"k\",zorder=2)\n",
    "ax[0].errorbar(10**(age[vg<2e-3]),vs[vg<2e-3],yerr=vs_err[vg<2e-3],ls=\"\",color=\"grey\",zorder=1)\n",
    "ax[1].scatter(10**(age[vs>2e-3]),vg[vs>2e-3],zorder=2,c=dpa['D_PA'].to_numpy()[vs>2e-3])\n",
    "ax[1].errorbar(10**(age[vs>2e-3]),vg[vs>2e-3],yerr=vg_err[vs>2e-3],ls=\"\",color=\"grey\",zorder=1)\n",
    "ax[1].scatter(10**(age[vs<2e-3]),vg[vs<2e-3],c=\"g\",zorder=2)\n",
    "ax[1].errorbar(10**(age[vs<2e-3]),vg[vs<2e-3],yerr=vg_err[vs<2e-3],ls=\"\",color=\"grey\",zorder=1)\n",
    "ax[1].scatter(10**(age[vg<2e-3]),vg[vg<2e-3],c=\"k\",zorder=2)\n",
    "ax[1].errorbar(10**(age[vg<2e-3]),vg[vg<2e-3],yerr=vg_err[vg<2e-3],ls=\"\",color=\"grey\",zorder=1)\n",
    "ax[0].set_yscale(\"log\")\n",
    "ax[0].set_xscale(\"log\")\n",
    "ax[1].set_yscale(\"log\")\n",
    "ax[1].set_xscale(\"log\")\n",
    "ax[0].set_title(\"Stars\")\n",
    "ax[1].set_title(\"Gas\")\n",
    "ax[0].set_ylabel(r\"$v_{asym}(R_e)$\")\n",
    "ax[0].set_xlabel(r\"Stellar Age [yr]\")\n",
    "ax[1].set_xlabel(r\"Stellar Age [yr]\")\n",
    "plt.subplots_adjust(wspace=0)\n",
    "plt.colorbar(p,ax=ax,location=\"top\",aspect=50)\n",
    "plt.show()"
   ],
   "metadata": {
    "collapsed": false,
    "ExecuteTime": {
     "start_time": "2023-07-21T04:07:02.714332Z",
     "end_time": "2023-07-21T04:07:04.562051Z"
    }
   }
  },
  {
   "cell_type": "code",
   "execution_count": null,
   "outputs": [],
   "source": [
    "vs = sample[\"v_asym_s\"].to_numpy()\n",
    "vs_err=sample[\"v_asym_s_err\"].to_numpy()\n",
    "vg = sample[\"v_asym_g\"].to_numpy()\n",
    "vg_err=sample[\"v_asym_g_err\"].to_numpy()\n",
    "vs[vs==1e-3]=5e-3\n",
    "vg[vg==1e-3]=5e-3\n",
    "xerr = vs_err/((np.log(10)*(vs)))\n",
    "yerr = vg_err/((np.log(10)*(vg)))\n",
    "xerr = np.nanmean(xerr)\n",
    "yerr = np.nanmean(yerr)\n",
    "plt.rcParams.update({\"font.size\":15})\n",
    "\n",
    "fig = plt.figure(figsize=(8,8))\n",
    "gs = fig.add_gridspec(2, 2,  width_ratios=(4, 1), height_ratios=(1, 4),\n",
    "                      left=0.1, right=0.9, bottom=0.1, top=0.9,\n",
    "                      wspace=0.0, hspace=0.0)\n",
    "ax = fig.add_subplot(gs[1,0])\n",
    "p=ax.scatter(np.log10(vs[(vs>8e-3) & (vg>8e-3)]),np.log10(vg[(vs>8e-3) & (vg>8e-3)]),s=50)\n",
    "ax.scatter(np.log10(vs[(vs>8e-3) & (vg<8e-3)]),np.log10(vg[(vs>8e-3) & (vg<8e-3)]),s=50)\n",
    "ax.scatter(np.log10(vs[(vs<8e-3) & (vg>8e-3)]),np.log10(vg[(vs<8e-3) & (vg>8e-3)]),s=50,c=\"tab:orange\")\n",
    "ax.errorbar(np.log10(5e-3),0,xerr=xerr,yerr=yerr,color=\"grey\",ls=\"\")\n",
    "ax.plot(np.linspace(-3.3,1),np.linspace(-3.3,1),ls=\"dashdot\",color=\"k\")\n",
    "ax.set_xlabel(r\"$\\log$ v$_{asym}$ [Stars]\")\n",
    "ax.text(s=\"Gas Dominated\",x=-2.2,y=-0.35)\n",
    "ax.text(s=\"Stellar Dominated\",x=-1,y=-2.15)\n",
    "ax.set_ylabel(r\"$\\log$ v$_{asym}$ [Gas]\")\n",
    "ax_histx = fig.add_subplot(gs[0,0])\n",
    "ax_histx.hist(np.log10(vs[vs>8e-3]),histtype=\"step\",bins=np.arange(-2,0.65,0.15),\n",
    "              label=\"Detection\")\n",
    "ax_histx.hist(np.log10(vs[vg<8e-3]),histtype=\"step\",bins=np.arange(-2,0.65,0.15),\n",
    "              label=\"Non-Detection\")\n",
    "ax_histx.set_xticks([])\n",
    "ax_histx.legend(bbox_to_anchor=(1.015,1.05))\n",
    "ax_histy = fig.add_subplot(gs[1,1])\n",
    "ax_histy.hist(np.log10(vg[vg>8e-3]),histtype=\"step\",orientation=\"horizontal\",\n",
    "              bins=np.arange(np.log10(3e-3),0.65,0.15))\n",
    "ax_histy.hist(np.log10(vg[vs<8e-3]),histtype=\"step\",orientation=\"horizontal\",\n",
    "              bins=np.arange(np.log10(8e-3),0.65,0.15))\n",
    "ax_histy.set_yticks([])\n",
    "ax.set_xlim(-2.5,0.2)\n",
    "ax.set_ylim(-2.5,0.2)\n",
    "ax_histx.set_xlim(-2.5,0.2)\n",
    "ax_histy.set_ylim(-2.5,0.2)\n",
    "plt.savefig(\"/Users/ryanbagge/Library/CloudStorage/OneDrive-UNSW/MAGPI_Plots/plots/paper2/asym_s_g.pdf\",bbox_inches=\"tight\")"
   ],
   "metadata": {
    "collapsed": false,
    "ExecuteTime": {
     "start_time": "2023-07-21T04:06:28.970322Z",
     "end_time": "2023-07-21T04:07:06.001881Z"
    }
   }
  },
  {
   "cell_type": "code",
   "execution_count": null,
   "outputs": [],
   "source": [
    "bpt[\"type(sf=1, sy=2, ln=3) SII\"]"
   ],
   "metadata": {
    "collapsed": false,
    "ExecuteTime": {
     "start_time": "2023-07-21T04:07:06.007701Z",
     "end_time": "2023-07-21T04:07:06.016790Z"
    }
   }
  },
  {
   "cell_type": "code",
   "execution_count": null,
   "outputs": [],
   "source": [
    "import astropy\n",
    "file = fits.open(\"/Users/ryanbagge/Library/CloudStorage/OneDrive-UNSW/MAGPI_csv/pa_gas_results.fits\")\n",
    "#file.info()\n",
    "table = astropy.table.Table(file[1].data)\n",
    "csv = table.write(\"/Users/ryanbagge/Library/CloudStorage/OneDrive-UNSW/MAGPI_csv/MAGPI_gas_PA.csv\",\n",
    "                  overwrite=True)\n",
    "file = fits.open(\"/Users/ryanbagge/Library/CloudStorage/OneDrive-UNSW/MAGPI_csv/pa_stellar_results.fits\")\n",
    "#file.info()\n",
    "table = astropy.table.Table(file[1].data)\n",
    "csv = table.write(\"/Users/ryanbagge/Library/CloudStorage/OneDrive-UNSW/MAGPI_csv/MAGPI_stellar_PA.csv\",\n",
    "                  overwrite=True)"
   ],
   "metadata": {
    "collapsed": false,
    "ExecuteTime": {
     "start_time": "2023-07-21T04:07:06.017881Z",
     "end_time": "2023-07-21T04:07:06.214215Z"
    }
   }
  },
  {
   "cell_type": "code",
   "execution_count": null,
   "outputs": [],
   "source": [
    "sample = pd.read_csv(\"/Users/ryanbagge/Library/CloudStorage/OneDrive-UNSW/MAGPI_csv/MAGPI_kinemetry_sample_S05.csv\")\n",
    "gas_pa = pd.read_csv(\"/Users/ryanbagge/Library/CloudStorage/OneDrive-UNSW/MAGPI_csv/MAGPI_gas_PA.csv\")\n",
    "stars_pa = pd.read_csv(\"/Users/ryanbagge/Library/CloudStorage/OneDrive-UNSW/MAGPI_csv/MAGPI_stellar_PA.csv\")\n",
    "gas_pa = gas_pa[gas_pa[\"ID\"].isin(sample[\"MAGPIID\"])]\n",
    "stars_pa = stars_pa[stars_pa[\"ID\"].isin(sample[\"MAGPIID\"])]\n",
    "gas_pa = gas_pa[gas_pa[\"ID\"].isin(stars_pa[\"ID\"])]\n",
    "pa_sample = sample[sample['MAGPIID'].isin(stars_pa[\"ID\"])]\n",
    "pa_ssp = ssp[ssp['MAGPIID'].isin(pa_sample[\"MAGPIID\"])]"
   ],
   "metadata": {
    "collapsed": false,
    "ExecuteTime": {
     "start_time": "2023-07-21T04:07:06.125474Z",
     "end_time": "2023-07-21T04:07:06.214502Z"
    }
   }
  },
  {
   "cell_type": "code",
   "execution_count": null,
   "outputs": [],
   "source": [
    "dpa =[]\n",
    "for i in range(len(sample)):\n",
    "    if np.isnan(sample['v_asym_s'].to_numpy()[i]) or np.isnan(sample[\"v_asym_g\"].to_numpy()[i]):\n",
    "        dpa.append(np.nan)\n",
    "    else:\n",
    "        gpa = gas_pa[gas_pa[\"ID\"].isin([sample['MAGPIID'].to_numpy()[i]])]\n",
    "        spa = stars_pa[stars_pa[\"ID\"].isin([sample['MAGPIID'].to_numpy()[i]])]\n",
    "        if len(gpa)==0 or len(spa)==0:\n",
    "            dpa.append(np.nan)\n",
    "        else:\n",
    "            dpa.append(abs(gpa[\"PA_gas\"].to_numpy() - spa[\"PA_stars\"].to_numpy()))\n",
    "print(len(dpa))\n",
    "sample[\"DPA\"]=dpa"
   ],
   "metadata": {
    "collapsed": false,
    "ExecuteTime": {
     "start_time": "2023-07-21T04:07:06.151649Z",
     "end_time": "2023-07-21T04:07:06.348771Z"
    }
   }
  },
  {
   "cell_type": "code",
   "execution_count": null,
   "outputs": [],
   "source": [
    "ssp = ssp[ssp[\"MAGPIID\"].isin(pa_sample[\"MAGPIID\"])]\n",
    "vs = pa_sample[\"v_asym_s\"].to_numpy()\n",
    "vs_err=pa_sample[\"v_asym_s_err\"].to_numpy()\n",
    "vg = pa_sample[\"v_asym_g\"].to_numpy()\n",
    "vg_err=pa_sample[\"v_asym_g_err\"].to_numpy()\n",
    "age = pa_ssp[\"logage_LW_1re\"].to_numpy()\n",
    "vs_err[np.isnan(vs)]=0\n",
    "vg_err[np.isnan(vg)]=0\n",
    "vs[np.isnan(vs)]=1e-3\n",
    "vg[np.isnan(vg)]=1e-3\n",
    "fig,ax = plt.subplots(1,2,figsize=(12,4),sharey=\"row\")\n",
    "p=ax[0].scatter(10**(age[vs>2e-3]),vs[vs>2e-3],zorder=2,vmin=0,vmax=50)\n",
    "ax[0].errorbar(10**(age[vs>2e-3]),vs[vs>2e-3],yerr=vs_err[vs>2e-3],ls=\"\",color=\"grey\",zorder=1)\n",
    "ax[0].scatter(10**(age[vs<2e-3]),vs[vs<2e-3],zorder=2)\n",
    "ax[0].errorbar(10**(age[vs<2e-3]),vs[vs<2e-3],yerr=vs_err[vs<2e-3],ls=\"\",color=\"grey\",zorder=1)\n",
    "ax[0].scatter(10**(age[vg<2e-3]),vs[vg<2e-3],zorder=2)\n",
    "ax[0].errorbar(10**(age[vg<2e-3]),vs[vg<2e-3],yerr=vs_err[vg<2e-3],ls=\"\",color=\"grey\",zorder=1)\n",
    "ax[1].scatter(10**(age[vs>2e-3]),vg[vs>2e-3],zorder=2)\n",
    "ax[1].errorbar(10**(age[vs>2e-3]),vg[vs>2e-3],yerr=vg_err[vs>2e-3],ls=\"\",color=\"grey\",zorder=1)\n",
    "ax[1].scatter(10**(age[vs<2e-3]),vg[vs<2e-3],zorder=2)\n",
    "ax[1].errorbar(10**(age[vs<2e-3]),vg[vs<2e-3],yerr=vg_err[vs<2e-3],ls=\"\",color=\"grey\",zorder=1)\n",
    "ax[1].scatter(10**(age[vg<2e-3]),vg[vg<2e-3],zorder=2)\n",
    "ax[1].errorbar(10**(age[vg<2e-3]),vg[vg<2e-3],yerr=vg_err[vg<2e-3],ls=\"\",color=\"grey\",zorder=1)\n",
    "ax[0].set_yscale(\"log\")\n",
    "ax[0].set_xscale(\"log\")\n",
    "ax[1].set_yscale(\"log\")\n",
    "ax[1].set_xscale(\"log\")\n",
    "ax[0].set_title(\"Stars\")\n",
    "ax[1].set_title(\"Gas\")\n",
    "ax[0].set_ylabel(r\"$v_{asym}(R_e)$\")\n",
    "ax[0].set_xlabel(r\"Stellar Age [yr]\")\n",
    "ax[1].set_xlabel(r\"Stellar Age [yr]\")\n",
    "plt.subplots_adjust(wspace=0)\n",
    "#plt.colorbar(p,ax=ax,location=\"top\",aspect=50)\n",
    "plt.show()"
   ],
   "metadata": {
    "collapsed": false,
    "ExecuteTime": {
     "start_time": "2023-07-21T04:07:06.269257Z",
     "end_time": "2023-07-21T04:07:08.382497Z"
    }
   }
  },
  {
   "cell_type": "code",
   "execution_count": null,
   "outputs": [],
   "source": [
    "fig,ax = plt.subplots()\n",
    "p=ax.scatter(vs,vg,c=pa_sample[\"DPA\"].to_numpy(),vmin=0,vmax=50,zorder=2,s=50)\n",
    "ax.errorbar(vs,vg,xerr=vs_err,yerr=vg_err,ls=\"\",color=\"grey\",marker=\"v\",zorder=1)\n",
    "ax.set_xscale(\"log\")\n",
    "ax.set_yscale(\"log\")\n",
    "ax.plot(np.logspace(-4,2),np.logspace(-4,2),ls=\"dashed\",color=\"k\")\n",
    "ax.set_xlim(8e-3,1.2)\n",
    "ax.set_ylim(8e-3,1.2)\n",
    "ax.set_xlabel(r\"v$_{\\rm asym}$ [Stars]\")\n",
    "ax.set_ylabel(r\"v$_{\\rm asym}$ [Gas]\")\n",
    "plt.colorbar(p,ax=ax,label=r\"$\\Delta$PA\")\n",
    "plt.show()"
   ],
   "metadata": {
    "collapsed": false,
    "ExecuteTime": {
     "start_time": "2023-07-19T19:21:11.579963Z",
     "end_time": "2023-07-19T19:21:12.568015Z"
    }
   }
  },
  {
   "cell_type": "code",
   "execution_count": null,
   "outputs": [],
   "source": [
    "sample = pd.read_csv(\"/Users/ryanbagge/Library/CloudStorage/OneDrive-UNSW/MAGPI_csv/MAGPI_kinemetry_sample_s05.csv\")\n",
    "sample = sample[np.isnan(sample[\"v_asym_g\"])]\n",
    "prospect = pd.read_csv(\"/Users/ryanbagge/Library/CloudStorage/OneDrive-UNSW/MAGPI_csv/MAGPI_ProSpectCat_v0.1.csv\")\n",
    "ssp = pd.read_csv(\"/Users/ryanbagge/Library/CloudStorage/OneDrive-UNSW/MAGPI_csv/MAGPI_ApertureSpectra_StellarPops_V1.0_SPV.csv\")\n",
    "env = pd.read_csv(\"/Users/ryanbagge/Library/CloudStorage/OneDrive-UNSW/MAGPI_csv/kinemetry_sample_env.csv\")\n",
    "env_sample = sample[sample[\"MAGPIID\"].isin(env[\"MAGPIID\"])]\n",
    "# env_sample = env_sample[(env_sample[\"v_asym_s\"]>np.std(vs[vs>2e-3])) &\n",
    "#                         (env_sample[\"v_asym_g\"]>np.std(vg[vg>2e-3]))]\n",
    "env = env[env[\"MAGPIID\"].isin(env_sample[\"MAGPIID\"])]\n",
    "ssp = ssp[ssp[\"MAGPIID\"].isin(env_sample[\"MAGPIID\"])]\n",
    "prospect = prospect[prospect[\"MAGPIID\"].isin(env_sample[\"MAGPIID\"])]\n",
    "print(env_sample[\"MAGPIID\"].to_numpy())\n",
    "print(env[\"d1,kpc\"].to_numpy())\n",
    "print(ssp[\"logage_LW_1re\"].to_numpy())\n",
    "print(prospect[\"StellarMass_median\"].to_numpy())\n",
    "print(env[\"BCG?\"].to_numpy())\n",
    "print(np.max(np.log10(prospect[\"StellarMass_median\"].to_numpy())) - np.min(np.log10(prospect[\"StellarMass_median\"].to_numpy())))"
   ],
   "metadata": {
    "collapsed": false,
    "ExecuteTime": {
     "start_time": "2023-07-21T00:35:52.492489Z",
     "end_time": "2023-07-21T00:35:52.601525Z"
    }
   }
  },
  {
   "cell_type": "code",
   "execution_count": null,
   "outputs": [],
   "source": [
    "fig,ax =plt.subplots()\n",
    "ax.scatter(prospect[\"StellarMass_median\"],env_sample[\"v_asym_s\"])\n",
    "ax.scatter(prospect[\"StellarMass_median\"],env_sample[\"v_asym_g\"])\n",
    "ax.set_xscale(\"log\")\n",
    "ax.set_yscale(\"log\")\n",
    "ax.set_ylim(1e-3,0.8)\n",
    "ax.set_xlim(8.8e8,8e11)\n",
    "plt.show()\n",
    "fig,ax =plt.subplots()\n",
    "ax.scatter(10**(ssp[\"logage_LW_1re\"]),env_sample[\"v_asym_s\"])\n",
    "ax.scatter(10**(ssp[\"logage_LW_1re\"]),env_sample[\"v_asym_g\"])\n",
    "ax.set_xscale(\"log\")\n",
    "ax.set_yscale(\"log\")\n",
    "ax.set_ylim(1e-3,0.8)\n",
    "ax.set_xlim(8e7,2e10)\n",
    "plt.show()\n",
    "\n",
    "fig,ax =plt.subplots()\n",
    "ax.scatter(env[\"d1,kpc\"],env_sample[\"v_asym_s\"])\n",
    "ax.scatter(env[\"d1,kpc\"],env_sample[\"v_asym_g\"])\n",
    "ax.set_xscale(\"log\")\n",
    "ax.set_yscale(\"log\")\n",
    "ax.set_ylim(1e-3,0.8)\n",
    "#ax.set_xlim(8e7,2e10)\n",
    "plt.show()"
   ],
   "metadata": {
    "collapsed": false,
    "ExecuteTime": {
     "start_time": "2023-07-21T01:01:56.181562Z",
     "end_time": "2023-07-21T01:01:59.106598Z"
    }
   }
  },
  {
   "cell_type": "code",
   "execution_count": null,
   "outputs": [],
   "source": [
    "fig,ax = plt.subplots()\n",
    "ax.scatter(vs,vg)\n",
    "ax.set_xscale(\"log\")\n",
    "ax.set_yscale(\"log\")\n",
    "ax.plot(np.logspace(-4,1),np.logspace(-4,1),ls=\"dashed\",color=\"k\")\n",
    "ax.vlines(x=np.std(vs[vs>2e-3]),ymin=10**(-3.2),ymax=np.std(vg[vg>2e-3]),color='k',ls=\"dashed\")\n",
    "ax.hlines(y=np.std(vg[vg>2e-3]),xmin=10**(-3.2),xmax=np.std(vs[vs>2e-3]),color=\"k\",ls=\"dashed\")\n",
    "ax.set_xlim(8e-4,1.5)\n",
    "ax.set_ylim(8e-4,1.5)\n",
    "ax.set_ylabel(r\"v$_{asym}$ [Gas]\")\n",
    "ax.set_xlabel(r\"v$_{asym}$ [Stars]\")\n",
    "plt.show()\n",
    "\n",
    "fig,ax = plt.subplots()\n",
    "ax.scatter(vs,vg,c=\"k\",alpha=0.2)\n",
    "ax.set_xscale(\"log\")\n",
    "ax.set_yscale(\"log\")\n",
    "ax.plot(np.logspace(-4,1),np.logspace(-4,1),ls=\"dashed\",color=\"k\")\n",
    "ax.text(s=\"Gas Dominated\",x=2e-3,y=1e-1)\n",
    "ax.text(s=\"Stellar Dominated\",x=4.8e-2,y=2e-3)\n",
    "#ax.text(s=\"Stellar Dominated\",x=2e-3,y=1e-1)\n",
    "#ax.text(s=\"Merger\\nDriven\",x=2e-1,y=8e-3)\n",
    "ax.vlines(x=np.std(vs[vs>2e-3]),ymin=10**(-3.2),ymax=np.std(vg[vg>2e-3]),color='k',ls=\"dashed\")\n",
    "ax.hlines(y=np.std(vg[vg>2e-3]),xmin=10**(-3.2),xmax=np.std(vs[vs>2e-3]),color=\"k\",ls=\"dashed\")\n",
    "ax.set_xlim(8e-4,1.5)\n",
    "ax.set_ylim(8e-4,1.5)\n",
    "ax.set_ylabel(r\"v$_{asym}$ [Gas]\")\n",
    "ax.set_xlabel(r\"v$_{asym}$ [Stars]\")\n",
    "plt.show()\n",
    "\n",
    "fig,ax = plt.subplots()\n",
    "ax.scatter(vs,vg,c=\"k\",alpha=0.2)\n",
    "ax.set_xscale(\"log\")\n",
    "ax.set_yscale(\"log\")\n",
    "ax.plot(np.logspace(-4,1),np.logspace(-4,1),ls=\"dashed\",color=\"k\")\n",
    "ax.text(s=\"Gas Dominated\",x=2e-3,y=1e-1)\n",
    "ax.text(s=\"Stellar Dominated\",x=4.8e-2,y=2e-3)\n",
    "#ax.text(s=\"Stellar Dominated\",x=2e-3,y=1e-1)\n",
    "ax.text(s=\"Merger\\nDriven\",x=2e-1,y=8e-3)\n",
    "ax.text(s=\"Accretion\\nDriven\",x=4e-2,y=2e-1)\n",
    "ax.vlines(x=np.std(vs[vs>2e-3]),ymin=10**(-3.2),ymax=np.std(vg[vg>2e-3]),color='k',ls=\"dashed\")\n",
    "ax.hlines(y=np.std(vg[vg>2e-3]),xmin=10**(-3.2),xmax=np.std(vs[vs>2e-3]),color=\"k\",ls=\"dashed\")\n",
    "ax.set_xlim(8e-4,1.5)\n",
    "ax.set_ylim(8e-4,1.5)\n",
    "ax.set_ylabel(r\"v$_{asym}$ [Gas]\")\n",
    "ax.set_xlabel(r\"v$_{asym}$ [Stars]\")\n",
    "plt.show()"
   ],
   "metadata": {
    "collapsed": false,
    "ExecuteTime": {
     "start_time": "2023-07-21T00:30:49.302642Z",
     "end_time": "2023-07-21T00:30:55.378708Z"
    }
   }
  },
  {
   "cell_type": "code",
   "execution_count": null,
   "outputs": [],
   "source": [],
   "metadata": {
    "collapsed": false,
    "ExecuteTime": {
     "start_time": "2023-07-21T16:05:41.213214Z",
     "end_time": "2023-07-21T16:05:41.279585Z"
    }
   }
  },
  {
   "cell_type": "code",
   "execution_count": null,
   "outputs": [],
   "source": [
    "sample = pd.read_csv(\"/Users/ryanbagge/Library/CloudStorage/OneDrive-UNSW/MAGPI_csv/MAGPI_kinemetry_sample_s05.csv\")\n",
    "prospect = pd.read_csv(\"/Users/ryanbagge/Library/CloudStorage/OneDrive-UNSW/MAGPI_csv/MAGPI_ProSpectCat_v0.1.csv\")\n",
    "sample = sample.dropna()\n",
    "prospect = prospect[prospect[\"MAGPIID\"].isin(sample[\"MAGPIID\"])]\n",
    "\n",
    "vs = sample[\"v_asym_s\"].to_numpy()\n",
    "#vs = vs[~np.isnan(vs)]\n",
    "vg = sample[\"v_asym_g\"].to_numpy()\n",
    "#vg = vg[~np.isnan(vg)]\n",
    "len(sample[vs>vg])/len(sample)"
   ],
   "metadata": {
    "collapsed": false,
    "ExecuteTime": {
     "start_time": "2023-07-21T16:48:15.138996Z",
     "end_time": "2023-07-21T16:48:15.190854Z"
    }
   }
  },
  {
   "cell_type": "code",
   "execution_count": null,
   "outputs": [],
   "source": [
    "scipy.stats.pearsonr(np.log10(vs),np.log10(prospect[\"StellarMass_median\"]))"
   ],
   "metadata": {
    "collapsed": false,
    "ExecuteTime": {
     "start_time": "2023-07-21T16:48:15.772949Z",
     "end_time": "2023-07-21T16:48:15.814873Z"
    }
   }
  },
  {
   "cell_type": "code",
   "execution_count": null,
   "outputs": [],
   "source": [
    "scipy.stats.pearsonr(np.log10(vg),np.log10(prospect[\"StellarMass_median\"]))"
   ],
   "metadata": {
    "collapsed": false,
    "ExecuteTime": {
     "start_time": "2023-07-21T16:50:31.093160Z",
     "end_time": "2023-07-21T16:50:31.113660Z"
    }
   }
  },
  {
   "cell_type": "code",
   "execution_count": null,
   "outputs": [],
   "source": [
    "sample = pd.read_csv(\"/Users/ryanbagge/Library/CloudStorage/OneDrive-UNSW/MAGPI_csv/MAGPI_kinemetry_sample_s05_no_err.csv\")\n",
    "s05_s = np.sqrt((0.5*sample[\"V_rot_s\"])**2 + sample[\"Sigma_s\"]**2)\n",
    "s05_g = np.sqrt((0.5*sample[\"V_rot_g\"])**2 + sample[\"Sigma_g\"]**2)\n",
    "\n",
    "fig,ax = plt.subplots()\n",
    "ax.scatter(np.linspace(0,len(sample),len(sample)),np.array(s05_s/s05_g))\n",
    "ax.set_ylim(0,3)\n",
    "plt.show()\n",
    "print(np.nanmean(np.array(s05_s/s05_g)))\n",
    "print(np.nanstd(np.array(s05_s/s05_g)))"
   ],
   "metadata": {
    "collapsed": false,
    "ExecuteTime": {
     "start_time": "2023-07-21T17:39:12.406429Z",
     "end_time": "2023-07-21T17:39:12.614886Z"
    }
   }
  },
  {
   "cell_type": "code",
   "execution_count": null,
   "outputs": [],
   "source": [],
   "metadata": {
    "collapsed": false
   }
  }
 ],
 "metadata": {
  "kernelspec": {
   "display_name": "Python 3",
   "language": "python",
   "name": "python3"
  },
  "language_info": {
   "codemirror_mode": {
    "name": "ipython",
    "version": 2
   },
   "file_extension": ".py",
   "mimetype": "text/x-python",
   "name": "python",
   "nbconvert_exporter": "python",
   "pygments_lexer": "ipython2",
   "version": "2.7.6"
  }
 },
 "nbformat": 4,
 "nbformat_minor": 0
}
